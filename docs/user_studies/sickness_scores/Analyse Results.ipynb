{
 "cells": [
  {
   "cell_type": "markdown",
   "metadata": {},
   "source": [
    "# Analyse user response data"
   ]
  },
  {
   "cell_type": "code",
   "execution_count": null,
   "metadata": {},
   "outputs": [],
   "source": [
    "import pandas as pd\n",
    "import matplotlib.pyplot as pl\n",
    "import numpy as np\n",
    "import json\n",
    "import shap"
   ]
  },
  {
   "cell_type": "code",
   "execution_count": null,
   "metadata": {},
   "outputs": [],
   "source": [
    "responses = []\n",
    "with open(\"trial_data2_3_3_2019.csv\") as f:\n",
    "    lines = f.readlines()\n",
    "    for line in lines:\n",
    "        parts = line.replace('\"\"', \"'\").replace('\"', \"\").split(\",\", maxsplit=3)\n",
    "        user_id,hit_id = parts[0].split(\":\")\n",
    "        data = json.loads(parts[3].replace(\"'\", '\"'))\n",
    "        data[\"user_id\"] = user_id\n",
    "        data[\"hit_id\"] = hit_id\n",
    "        if user_id != \"A1VIB2NEKBZUKQ\": # skip data from my own tests\n",
    "            responses.append(data)\n",
    "        "
   ]
  },
  {
   "cell_type": "code",
   "execution_count": null,
   "metadata": {},
   "outputs": [],
   "source": [
    "def get_allocations(responses, mark):\n",
    "    allocs = {}\n",
    "    for r in responses:\n",
    "        if r[\"mark\"] == mark:\n",
    "            id = str(r[\"fever_credit\"]) + \" / \" + str(r[\"cough_credit\"]) + \" / \" + str(r[\"headache_credit\"])\n",
    "            allocs[id] = allocs.get(id, 0) + 1\n",
    "    return allocs"
   ]
  },
  {
   "cell_type": "code",
   "execution_count": null,
   "metadata": {},
   "outputs": [],
   "source": [
    "mark_titles = {\n",
    "    \"questionA0_stop\": \"Human XOR + linear allocation for T/T\",\n",
    "    \"questionA1_stop\": \"Human XOR + linear allocation for F/T\",\n",
    "    \"questionA2_stop\": \"Human XOR + linear allocation for F/F\",\n",
    "    \"questionB0_stop\": \"Human AND + linear allocation for T/T\",\n",
    "    \"questionB1_stop\": \"Human AND + linear allocation for F/T\",\n",
    "    \"questionB2_stop\": \"Human AND + linear allocation for F/F\",\n",
    "    \"questionC0_stop\": \"Human OR + linear allocation for T/T\",\n",
    "    \"questionC1_stop\": \"Human OR + linear allocation for F/T\",\n",
    "    \"questionC2_stop\": \"Human OR + linear allocation for F/F\",\n",
    "    \"questionD0_stop\": \"Human SUM allocation for T/T\",\n",
    "    \"questionD1_stop\": \"Human SUM allocation for F/T\",\n",
    "    \"questionD2_stop\": \"Human SUM allocation for F/F\"\n",
    "}\n",
    "def plot_allocations(responses, mark):\n",
    "    allocs = get_allocations(responses, mark)\n",
    "    ks = list(allocs.keys())\n",
    "    vs = [allocs[k] for k in ks]\n",
    "    inds = np.argsort(-np.array(vs))\n",
    "    pl.title(mark_titles.get(mark, \"\"), fontsize=13)\n",
    "    pl.bar([ks[i] for i in inds[:1]], [vs[i] for i in inds[:1]], linewidth=0, color=shap.plots.colors.blue_rgb)\n",
    "    pl.bar([ks[i] for i in inds[1:]], [vs[i] for i in inds[1:]], linewidth=0, color=shap.plots.colors.gray_rgb)\n",
    "    for tick in pl.gca().get_xticklabels():\n",
    "        tick.set_rotation(90)\n",
    "    pl.ylabel(\"Number of respondents\", fontsize=13)\n",
    "    pl.xlabel(\"Values entered by respondents\\n(fever / cough / headache)\", fontsize=13)\n",
    "    pl.gca().xaxis.set_ticks_position('bottom')\n",
    "    pl.gca().yaxis.set_ticks_position('left')\n",
    "    pl.gca().spines['right'].set_visible(False)\n",
    "    pl.gca().spines['top'].set_visible(False)\n",
    "    #pl.show()"
   ]
  },
  {
   "cell_type": "code",
   "execution_count": null,
   "metadata": {},
   "outputs": [],
   "source": [
    "plot_allocations(responses, marks[0])"
   ]
  },
  {
   "cell_type": "code",
   "execution_count": null,
   "metadata": {},
   "outputs": [],
   "source": [
    "get_allocations(responses, \"questionA0_stop\")"
   ]
  },
  {
   "cell_type": "code",
   "execution_count": null,
   "metadata": {},
   "outputs": [],
   "source": [
    "marks = [\n",
    "    \"questionA0_stop\", \"questionA1_stop\", \"questionA2_stop\",\n",
    "    \"questionB0_stop\", \"questionB1_stop\", \"questionB2_stop\",\n",
    "    \"questionC0_stop\", \"questionC1_stop\", \"questionC2_stop\",\n",
    "    \"questionD0_stop\", \"questionD1_stop\", \"questionD2_stop\"\n",
    "]"
   ]
  },
  {
   "cell_type": "code",
   "execution_count": null,
   "metadata": {},
   "outputs": [],
   "source": [
    "import sklearn\n",
    "import shap\n",
    "import numpy as np\n",
    "import graphviz"
   ]
  },
  {
   "cell_type": "code",
   "execution_count": null,
   "metadata": {},
   "outputs": [],
   "source": [
    "# build data\n",
    "N = 1000000\n",
    "M = 3\n",
    "X = np.zeros((N,M))\n",
    "X.shape\n",
    "y = np.zeros(N)\n",
    "X[0:1000, 0] = 1\n",
    "y[0:1000] = 2\n",
    "for i in range(0,1000000,1000):\n",
    "    X[i, 1] = 1\n",
    "    y[i] = 2\n",
    "y[0] = 10\n",
    "    \n",
    "# y[1] = 8\n",
    "# X[2, 0:2] = 1\n",
    "# y[2] = 4\n",
    "\n",
    "# fit model\n",
    "xor_model = sklearn.tree.DecisionTreeRegressor(max_depth=2)\n",
    "xor_model.fit(X, y)\n",
    "\n",
    "X_test = np.array([[1., 1., 1.]])\n",
    "#out = model.predict(X_test)\n",
    "\n",
    "# draw model\n",
    "dot_data = sklearn.tree.export_graphviz(xor_model, out_file=None, filled=True, rounded=True, special_characters=True)  \n",
    "graph = graphviz.Source(dot_data)  \n",
    "graph "
   ]
  },
  {
   "cell_type": "code",
   "execution_count": null,
   "metadata": {},
   "outputs": [],
   "source": [
    "# build data\n",
    "N = 1000000\n",
    "M = 3\n",
    "X = np.zeros((N,M))\n",
    "X.shape\n",
    "y = np.zeros(N)\n",
    "X[0:1000, 0] = 1\n",
    "y[0:1000] = 8\n",
    "for i in range(0,1000000,1000):\n",
    "    X[i, 1] = 1\n",
    "    y[i] = 8\n",
    "y[0] = 4\n",
    "    \n",
    "# y[1] = 8\n",
    "# X[2, 0:2] = 1\n",
    "# y[2] = 4\n",
    "\n",
    "# fit model\n",
    "xor_model = sklearn.tree.DecisionTreeRegressor(max_depth=2)\n",
    "xor_model.fit(X, y)\n",
    "\n",
    "X_test = np.array([[1., 1., 1.]])\n",
    "#out = model.predict(X_test)\n",
    "\n",
    "# draw model\n",
    "dot_data = sklearn.tree.export_graphviz(xor_model, out_file=None, filled=True, rounded=True, special_characters=True)  \n",
    "graph = graphviz.Source(dot_data)  \n",
    "graph "
   ]
  },
  {
   "cell_type": "code",
   "execution_count": null,
   "metadata": {},
   "outputs": [],
   "source": []
  },
  {
   "cell_type": "code",
   "execution_count": null,
   "metadata": {},
   "outputs": [],
   "source": [
    "# build data\n",
    "N = 1000000\n",
    "M = 3\n",
    "X = np.zeros((N,M))\n",
    "X.shape\n",
    "y = np.zeros(N)\n",
    "X[0, 0] = 1\n",
    "y[0] = 8\n",
    "X[1, 1] = 1\n",
    "y[1] = 8\n",
    "X[2, 0:2] = 1\n",
    "y[2] = 4\n",
    "\n",
    "# fit model\n",
    "xor_model = sklearn.tree.DecisionTreeRegressor(max_depth=2)\n",
    "xor_model.fit(X, y)\n",
    "\n",
    "X_test = np.array([[1., 1., 1.]])\n",
    "    out = model.predict(X_test)\n",
    "\n",
    "# draw model\n",
    "dot_data = sklearn.tree.export_graphviz(xor_model, out_file=None, filled=True, rounded=True, special_characters=True)  \n",
    "graph = graphviz.Source(dot_data)  \n",
    "graph "
   ]
  },
  {
   "cell_type": "code",
   "execution_count": null,
   "metadata": {},
   "outputs": [],
   "source": [
    "xor_model"
   ]
  },
  {
   "cell_type": "code",
   "execution_count": null,
   "metadata": {},
   "outputs": [],
   "source": [
    "plot_allocations(responses, marks[0])"
   ]
  },
  {
   "cell_type": "code",
   "execution_count": null,
   "metadata": {},
   "outputs": [],
   "source": [
    "pl.figure(figsize=(15,4))\n",
    "\n",
    "pl.subplot(1,3,1)\n",
    "plot_allocations(responses, marks[0])\n",
    "pl.subplot(1,3,2)\n",
    "plot_allocations(responses, marks[1])\n",
    "pl.subplot(1,3,3)\n",
    "plot_allocations(responses, marks[2])\n",
    "pl.savefig(\"human_xor_survey.pdf\")\n",
    "pl.show()"
   ]
  },
  {
   "cell_type": "code",
   "execution_count": null,
   "metadata": {},
   "outputs": [],
   "source": [
    "pl.figure(figsize=(15,4))\n",
    "\n",
    "pl.subplot(1,3,1)\n",
    "plot_allocations(responses, marks[3])\n",
    "pl.subplot(1,3,2)\n",
    "plot_allocations(responses, marks[4])\n",
    "pl.subplot(1,3,3)\n",
    "plot_allocations(responses, marks[5])\n",
    "pl.savefig(\"human_and_survey.pdf\")\n",
    "pl.show()"
   ]
  },
  {
   "cell_type": "code",
   "execution_count": null,
   "metadata": {},
   "outputs": [],
   "source": [
    "pl.figure(figsize=(15,4))\n",
    "\n",
    "pl.subplot(1,3,1)\n",
    "plot_allocations(responses, marks[6])\n",
    "pl.subplot(1,3,2)\n",
    "plot_allocations(responses, marks[7])\n",
    "pl.subplot(1,3,3)\n",
    "plot_allocations(responses, marks[8])\n",
    "pl.savefig(\"human_or_survey.pdf\")\n",
    "pl.show()"
   ]
  },
  {
   "cell_type": "code",
   "execution_count": null,
   "metadata": {},
   "outputs": [],
   "source": [
    "pl.figure(figsize=(15,4))\n",
    "\n",
    "pl.subplot(1,3,1)\n",
    "plot_allocations(responses, marks[9])\n",
    "pl.subplot(1,3,2)\n",
    "plot_allocations(responses, marks[10])\n",
    "pl.subplot(1,3,3)\n",
    "plot_allocations(responses, marks[11])\n",
    "pl.savefig(\"human_sum_survey.pdf\")\n",
    "pl.show()"
   ]
  },
  {
   "cell_type": "code",
   "execution_count": null,
   "metadata": {},
   "outputs": [],
   "source": [
    "for m in marks:\n",
    "    plot_allocations(responses, m)"
   ]
  },
  {
   "cell_type": "code",
   "execution_count": null,
   "metadata": {},
   "outputs": [],
   "source": [
    "for m in marks:\n",
    "    plot_allocations(responses, m)"
   ]
  },
  {
   "cell_type": "code",
   "execution_count": null,
   "metadata": {},
   "outputs": [],
   "source": [
    "plot_allocations(responses, \"questionA1_stop\")"
   ]
  },
  {
   "cell_type": "code",
   "execution_count": null,
   "metadata": {},
   "outputs": [],
   "source": [
    "plot_allocations(responses, \"questionA1_stop\")"
   ]
  },
  {
   "cell_type": "code",
   "execution_count": null,
   "metadata": {},
   "outputs": [],
   "source": [
    "a = \"aa\""
   ]
  },
  {
   "cell_type": "code",
   "execution_count": null,
   "metadata": {},
   "outputs": [],
   "source": [
    "?a.split"
   ]
  },
  {
   "cell_type": "code",
   "execution_count": null,
   "metadata": {},
   "outputs": [],
   "source": []
  }
 ],
 "metadata": {
  "kernelspec": {
   "display_name": "Python 3",
   "language": "python",
   "name": "python3"
  },
  "language_info": {
   "codemirror_mode": {
    "name": "ipython",
    "version": 3
   },
   "file_extension": ".py",
   "mimetype": "text/x-python",
   "name": "python",
   "nbconvert_exporter": "python",
   "pygments_lexer": "ipython3",
   "version": "3.6.5"
  }
 },
 "nbformat": 4,
 "nbformat_minor": 2
}

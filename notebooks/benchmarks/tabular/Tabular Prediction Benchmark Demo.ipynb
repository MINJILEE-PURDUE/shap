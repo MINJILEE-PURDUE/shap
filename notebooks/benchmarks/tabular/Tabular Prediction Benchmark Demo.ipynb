{
 "cells": [
  {
   "cell_type": "markdown",
   "source": [
    "# Tabular Data Explanation Benchmarking: Xgboost Regression"
   ],
   "metadata": {
    "collapsed": false
   }
  },
  {
   "cell_type": "markdown",
   "source": [
    "This notebook demonstrates how to use the benchmark utility to benchmark the performance of an explainer for tabular data. In this demo, we showcase explanation performance for tree explainer. The metrics used to evaluate are \"keep positive\" and \"keep negative\". The masker used is Independent Masker but can also generalize to other tabular maskers. \n",
    "\n",
    "The new benchmark utility uses the new API with MaskedModel as wrapper around user-imported model and evaluates masked values of inputs. "
   ],
   "metadata": {
    "collapsed": false
   }
  },
  {
   "cell_type": "code",
   "execution_count": 1,
   "outputs": [],
   "source": [
    "import matplotlib.pyplot as plt\n",
    "import xgboost\n",
    "from sklearn.model_selection import train_test_split\n",
    "\n",
    "import shap\n",
    "import shap.benchmark as benchmark"
   ],
   "metadata": {
    "collapsed": false,
    "ExecuteTime": {
     "end_time": "2023-10-14T12:43:55.082209823Z",
     "start_time": "2023-10-14T12:43:53.054498942Z"
    }
   }
  },
  {
   "cell_type": "markdown",
   "source": [
    "### Load Data and Model"
   ],
   "metadata": {
    "collapsed": false
   }
  },
  {
   "cell_type": "code",
   "execution_count": 2,
   "outputs": [],
   "source": [
    "# create trained model for prediction function\n",
    "untrained_model = xgboost.XGBRegressor(n_estimators=100, subsample=0.3)\n",
    "X, y = shap.datasets.california()\n",
    "X = X.values\n",
    "\n",
    "test_size = 0.3\n",
    "random_state = 0\n",
    "X_train, X_test, y_train, y_test = train_test_split(\n",
    "    X, y, test_size=test_size, random_state=random_state\n",
    ")\n",
    "\n",
    "model = untrained_model.fit(X_train, y_train)"
   ],
   "metadata": {
    "collapsed": false,
    "ExecuteTime": {
     "end_time": "2023-10-14T12:43:55.553385010Z",
     "start_time": "2023-10-14T12:43:55.086227634Z"
    }
   }
  },
  {
   "cell_type": "markdown",
   "source": [
    "### Define Explainer Masker"
   ],
   "metadata": {
    "collapsed": false
   }
  },
  {
   "cell_type": "code",
   "execution_count": 3,
   "outputs": [],
   "source": [
    "# use Independent masker as default\n",
    "masker = shap.maskers.Independent(X)"
   ],
   "metadata": {
    "collapsed": false,
    "ExecuteTime": {
     "end_time": "2023-10-14T12:43:55.556596123Z",
     "start_time": "2023-10-14T12:43:55.554214511Z"
    }
   }
  },
  {
   "cell_type": "markdown",
   "source": [
    "### Create Explainer Object"
   ],
   "metadata": {
    "collapsed": false
   }
  },
  {
   "cell_type": "code",
   "execution_count": 4,
   "outputs": [],
   "source": [
    "# tree explainer is used\n",
    "explainer = shap.Explainer(model, masker)"
   ],
   "metadata": {
    "collapsed": false,
    "ExecuteTime": {
     "end_time": "2023-10-14T12:43:55.725920240Z",
     "start_time": "2023-10-14T12:43:55.558791555Z"
    }
   }
  },
  {
   "cell_type": "markdown",
   "source": [
    "### Run SHAP Explanation"
   ],
   "metadata": {
    "collapsed": false
   }
  },
  {
   "cell_type": "code",
   "execution_count": 5,
   "outputs": [
    {
     "name": "stderr",
     "output_type": "stream",
     "text": [
      "100%|===================| 20547/20640 [00:39<00:00]        "
     ]
    }
   ],
   "source": [
    "shap_values = explainer(X)"
   ],
   "metadata": {
    "collapsed": false,
    "ExecuteTime": {
     "end_time": "2023-10-14T12:44:34.210952817Z",
     "start_time": "2023-10-14T12:43:55.727475487Z"
    }
   }
  },
  {
   "cell_type": "markdown",
   "source": [
    "### Define Metrics (Sort Order & Perturbation Method)"
   ],
   "metadata": {
    "collapsed": false
   }
  },
  {
   "cell_type": "code",
   "execution_count": 6,
   "outputs": [],
   "source": [
    "sort_order = \"positive\"\n",
    "perturbation = \"keep\""
   ],
   "metadata": {
    "collapsed": false,
    "ExecuteTime": {
     "end_time": "2023-10-14T12:44:34.215586077Z",
     "start_time": "2023-10-14T12:44:34.211743766Z"
    }
   }
  },
  {
   "cell_type": "markdown",
   "source": [
    "### Benchmark Explainer"
   ],
   "metadata": {
    "collapsed": false
   }
  },
  {
   "cell_type": "code",
   "execution_count": 7,
   "outputs": [
    {
     "data": {
      "text/plain": "SequentialMasker:   0%|          | 0/20640 [00:00<?, ?it/s]",
      "application/vnd.jupyter.widget-view+json": {
       "version_major": 2,
       "version_minor": 0,
       "model_id": "52f7e678b1b64ef5a3d8e12c838cf3ab"
      }
     },
     "metadata": {},
     "output_type": "display_data"
    },
    {
     "data": {
      "text/plain": "[<matplotlib.lines.Line2D at 0x7fb5fc4471d0>]"
     },
     "execution_count": 7,
     "metadata": {},
     "output_type": "execute_result"
    },
    {
     "data": {
      "text/plain": "<Figure size 640x480 with 1 Axes>",
      "image/png": "[encoded data removed]"
     },
     "metadata": {},
     "output_type": "display_data"
    }
   ],
   "source": [
    "sp = benchmark._sequential.SequentialPerturbation(\n",
    "    explainer.model, explainer.masker, sort_order, perturbation\n",
    ")\n",
    "sp_result = sp(\"SequentialPerturbation\", shap_values.values, X)\n",
    "plt.plot(sp_result.curve_x, sp_result.curve_y)"
   ],
   "metadata": {
    "collapsed": false,
    "ExecuteTime": {
     "end_time": "2023-10-14T12:45:04.285379622Z",
     "start_time": "2023-10-14T12:44:34.215527737Z"
    }
   }
  },
  {
   "cell_type": "code",
   "execution_count": 8,
   "outputs": [],
   "source": [
    "sort_order = \"negative\"\n",
    "perturbation = \"keep\""
   ],
   "metadata": {
    "collapsed": false,
    "ExecuteTime": {
     "end_time": "2023-10-14T12:45:04.285601179Z",
     "start_time": "2023-10-14T12:45:04.278777967Z"
    }
   }
  },
  {
   "cell_type": "code",
   "execution_count": 9,
   "outputs": [
    {
     "data": {
      "text/plain": "SequentialMasker:   0%|          | 0/20640 [00:00<?, ?it/s]",
      "application/vnd.jupyter.widget-view+json": {
       "version_major": 2,
       "version_minor": 0,
       "model_id": "9d05c288eb614b529617d80c500a30ef"
      }
     },
     "metadata": {},
     "output_type": "display_data"
    },
    {
     "data": {
      "text/plain": "[<matplotlib.lines.Line2D at 0x7fb5fcb7d6d0>]"
     },
     "execution_count": 9,
     "metadata": {},
     "output_type": "execute_result"
    },
    {
     "data": {
      "text/plain": "<Figure size 640x480 with 1 Axes>",
      "image/png": "[encoded data removed]"
     },
     "metadata": {},
     "output_type": "display_data"
    }
   ],
   "source": [
    "sp = benchmark._sequential.SequentialPerturbation(\n",
    "    explainer.model, explainer.masker, sort_order, perturbation\n",
    ")\n",
    "sp_result = sp(\"SequentialPerturbation\", shap_values.values, X)\n",
    "plt.plot(sp_result.curve_x, sp_result.curve_y)"
   ],
   "metadata": {
    "collapsed": false,
    "ExecuteTime": {
     "end_time": "2023-10-14T12:45:33.415430932Z",
     "start_time": "2023-10-14T12:45:04.281644823Z"
    }
   }
  }
 ],
 "metadata": {
  "kernelspec": {
   "display_name": "Python 3",
   "language": "python",
   "name": "python3"
  },
  "language_info": {
   "codemirror_mode": {
    "name": "ipython",
    "version": 3
   },
   "file_extension": ".py",
   "mimetype": "text/x-python",
   "name": "python",
   "nbconvert_exporter": "python",
   "pygments_lexer": "ipython3",
   "version": "3.7.9"
  }
 },
 "nbformat": 4,
 "nbformat_minor": 2
}

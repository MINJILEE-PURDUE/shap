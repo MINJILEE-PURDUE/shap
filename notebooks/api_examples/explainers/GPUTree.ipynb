{
 "cells": [
  {
   "cell_type": "markdown",
   "metadata": {},
   "source": [
    "# `GPUTree` explainer\n",
    "\n",
    "This notebooks demonstrates how to use the GPUTree explainer on some simple datasets. Like the Tree explainer, the GPUTree explainer is specifically designed for tree-based machine learning models, but it is designed to accelerate the computations using NVIDA GPUs.\n",
    "\n",
    "Note that in order to use the GPUTree explainer you need to have an NVIDA GPU, and SHAP needs to have been compiled to support the current GPU libraries on your system. On a recent Ubuntu server the steps to make this happen would be:\n",
    "\n",
    "1. Check to makes sure you have the NVIDA CUDA Toolkit installed by running the `nvcc` command (the CUDA compiler) from the terminal. If this command is not found then you need to install it with something like `sudo apt install nvidia-cuda-toolkit`.\n",
    "2. Once the NVIDA CUDA Toolkit is installed you need to set the CUDA_PATH environment variable. If `which nvcc` produces `/usr/bin/nvcc` then you can run `export CUDA_PATH=/usr`.\n",
    "3. Build SHAP with CUDA support by cloning the shap repo using `git clone https://github.com/shap/shap.git` then running `python setup.py install --user`.\n",
    "\n",
    "If you run into issues with the above instructions, make sure you don't still have an old version of SHAP around by ensuring `import shap` fails before you start the new install.\n",
    "\n",
    "Below we domonstrate how to use the GPUTree explainer on a simple adult income classification dataset and model."
   ]
  },
  {
   "cell_type": "code",
   "execution_count": null,
   "metadata": {},
   "outputs": [],
   "source": [
    "import shap\n",
    "import xgboost\n",
    "\n",
    "# get a dataset on income prediction\n",
    "X,y = shap.datasets.adult()\n",
    "\n",
    "# train an XGBoost model (but any other model type would also work)\n",
    "model = xgboost.XGBClassifier()\n",
    "model.fit(X, y)"
   ]
  },
  {
   "cell_type": "markdown",
   "metadata": {},
   "source": [
    "## Tabular data with independent (Shapley value) masking"
   ]
  },
  {
   "cell_type": "code",
   "execution_count": null,
   "metadata": {},
   "outputs": [],
   "source": [
    "# build a Permutation explainer and explain the model predictions on the given dataset\n",
    "explainer = shap.explainers.GPUTree(model, X)\n",
    "shap_values = explainer(X)\n",
    "\n",
    "# get just the explanations for the positive class\n",
    "shap_values = shap_values"
   ]
  },
  {
   "cell_type": "markdown",
   "metadata": {},
   "source": [
    "### Plot a global summary"
   ]
  },
  {
   "cell_type": "code",
   "execution_count": null,
   "metadata": {},
   "outputs": [],
   "source": [
    "shap.plots.bar(shap_values)"
   ]
  },
  {
   "cell_type": "markdown",
   "metadata": {},
   "source": [
    "### Plot a single instance"
   ]
  },
  {
   "cell_type": "code",
   "execution_count": null,
   "metadata": {},
   "outputs": [],
   "source": [
    "shap.plots.waterfall(shap_values[0])"
   ]
  },
  {
   "cell_type": "markdown",
   "metadata": {},
   "source": [
    "## Interaction values\n",
    "\n",
    "GPUTree support the Shapley taylor interaction values (an improvement over what the Tree explainer original provided)."
   ]
  },
  {
   "cell_type": "code",
   "execution_count": null,
   "metadata": {},
   "outputs": [],
   "source": [
    "explainer2 = shap.explainers.GPUTree(model, feature_perturbation=\"tree_path_dependent\")\n",
    "interaction_shap_values = explainer2(X[:100], interactions=True)"
   ]
  },
  {
   "cell_type": "code",
   "execution_count": null,
   "metadata": {},
   "outputs": [],
   "source": [
    "shap.plots.scatter(interaction_shap_values[:,:,0])"
   ]
  },
  {
   "cell_type": "markdown",
   "metadata": {},
   "source": [
    "<hr>\n",
    "Have an idea for more helpful examples? Pull requests that add to this documentation notebook are encouraged! "
   ]
  }
 ],
 "metadata": {
  "kernelspec": {
   "display_name": "Python 3",
   "language": "python",
   "name": "python3"
  },
  "language_info": {
   "codemirror_mode": {
    "name": "ipython",
    "version": 3
   },
   "file_extension": ".py",
   "mimetype": "text/x-python",
   "name": "python",
   "nbconvert_exporter": "python",
   "pygments_lexer": "ipython3",
   "version": "3.7.4"
  }
 },
 "nbformat": 4,
 "nbformat_minor": 2
}

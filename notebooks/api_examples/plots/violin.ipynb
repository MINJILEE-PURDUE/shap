{
 "cells": [
  {
   "cell_type": "markdown",
   "metadata": {},
   "source": [
    "# `violin` summary plot\n",
    "\n",
    "This notebook is designed to demonstrate (and so document) how to use the `shap.plots.violin` function. \n",
    "\n",
    "It uses an XGBoost model trained on the toy diabetes dataset provided by the scikit-learn library (source URL: https://www4.stat.ncsu.edu/~boos/var.select/diabetes.html).\n",
    "\n",
    "see for more info : https://scikit-learn.org/stable/datasets/toy_dataset.html#diabetes-dataset."
   ]
  },
  {
   "cell_type": "code",
   "execution_count": null,
   "metadata": {},
   "outputs": [],
   "source": [
    "import xgboost\n",
    "import shap\n",
    "\n",
    "# train xgboost model on diabetes data:\n",
    "X, y = shap.datasets.diabetes()\n",
    "bst = xgboost.train({\"learning_rate\": 0.01}, xgboost.DMatrix(X, label=y), 100)\n",
    "\n",
    "# explain the model's prediction using SHAP values\n",
    "shap_values = shap.TreeExplainer(bst).shap_values(X)\n",
    "\n",
    "type(shap_values)"
   ]
  },
  {
   "cell_type": "markdown",
   "metadata": {},
   "source": [
    "## A simple violin summary plot\n",
    "\n",
    "The violin summary plot offers a compact representation of the distribution and variability of SHAP values for each feature. Individual violin plots are stacked by importance of the particular feature on model output (sum of the absolute values of the SHAP values per feature). \n",
    "\n",
    "Violin plots use \"violin-shaped\" figures to display the distribution and density of SHAP values for their respective feature. The violins can therefore provide insights into the range, variability, skewness, symmetry, and multimodality of the SHAP value distribution for a specific feature.\n",
    "\n",
    "The overall violin summary plot allow for comparisons in feature importance. Wider violins indicate higher density and more frequent values, thus providing insights into the relative importance of each feature with regard to the model output."
   ]
  },
  {
   "cell_type": "code",
   "execution_count": null,
   "metadata": {},
   "outputs": [],
   "source": [
    "shap.plots.violin(shap_values)"
   ]
  },
  {
   "cell_type": "markdown",
   "metadata": {},
   "source": [
    "There are 10 features available in the diabetes dataset.\n",
    "\n",
    "By default the maximum number of features shown by `shap.plots.violin` is 20. \n",
    "\n",
    "The number of features displayed by the violin summary plot can be adjusted with the `max_display` parameter :"
   ]
  },
  {
   "cell_type": "code",
   "execution_count": null,
   "metadata": {},
   "outputs": [],
   "source": [
    "shap.plots.violin(shap_values, max_display=3)"
   ]
  },
  {
   "cell_type": "markdown",
   "metadata": {},
   "source": [
    "By default, the color for the standard violin summary plot is blue, but can be changed using the `color` parameter :"
   ]
  },
  {
   "cell_type": "code",
   "execution_count": null,
   "metadata": {},
   "outputs": [],
   "source": [
    "shap.plots.violin(shap_values, color='red')"
   ]
  },
  {
   "cell_type": "markdown",
   "metadata": {},
   "source": [
    "Providing the feature names as a list can help visualization and interpretation of the summary plot :"
   ]
  },
  {
   "cell_type": "code",
   "execution_count": null,
   "metadata": {},
   "outputs": [],
   "source": [
    "feat_names = list(X.columns)\n",
    "shap.plots.violin(shap_values, feature_names = feat_names)"
   ]
  },
  {
   "cell_type": "markdown",
   "metadata": {},
   "source": [
    "## The layered Violin Summary Plot\n",
    "\n",
    "There are currently two supported violin plot types: 'violin' and 'layered_violin'. You can control this via the `plot_type` parameter. \n",
    "\n",
    "The layered violin summary plot is identical to the violin one, except that outliers are not drawn as scatter points and it provides insights on the impact on the output of feature values (high/low) in the data."
   ]
  },
  {
   "cell_type": "markdown",
   "metadata": {},
   "source": [
    "Let us take the diabetes example :\n",
    "\n",
    "We want to plot a layered violin summary plot based on our data (X) and the computed shap_values for our case.\n",
    "\n",
    "We pass as parameters:\n",
    "- our `shap_values` : shap_values\n",
    "- our `features` : X\n",
    "- the `feature_names` : feat_names (for readability)\n",
    "- and the `plot_type` of interest : \"layered_violin\""
   ]
  },
  {
   "cell_type": "code",
   "execution_count": null,
   "metadata": {},
   "outputs": [],
   "source": [
    "shap.plots.violin(shap_values, features=X, feature_names = feat_names, plot_type=\"layered_violin\")"
   ]
  },
  {
   "cell_type": "markdown",
   "metadata": {},
   "source": [
    "We can see in this case, similarly to the standard violin, that `s5` is the most important variable, and generally it causes either a large positive or negative change in the prediction. \n",
    "\n",
    "However, we can now also get get a sense of the direction of the impact from the data. Red represents large values of a variable, and blue represents small ones, for the considered feature.\n",
    "\n",
    "Therefore, it becomes visible that large values of `s5` for instance increase the prediction, and vice versa. We can also see that other features (like `s6`) are pretty evenly split, which indicates that while overall they’re still important, their interaction is dependent on other variables. (After all, the whole point of a tree model like xgboost is to capture these interactions, so we can’t expect to see everything in a single dimension!)"
   ]
  },
  {
   "cell_type": "markdown",
   "metadata": {},
   "source": [
    "## Plot Size\n",
    "\n",
    "Finally, using the `plot_size` parameter, you can control the size of the summary plot. By default the size is auto-scaled based on the number of features that are being displayed. \n",
    "\n",
    "Passing a single float will cause each row to be that many inches high. \n",
    "\n",
    "Passing a pair of floats will scale the plot by that number of inches. \n",
    "\n",
    "If None is passed then the size of the current figure will be left\n",
    "unchanged.                                                             "
   ]
  },
  {
   "cell_type": "code",
   "execution_count": null,
   "metadata": {},
   "outputs": [],
   "source": [
    "# auto-scaled:\n",
    "shap.plots.violin(shap_values, feature_names = feat_names)"
   ]
  },
  {
   "cell_type": "code",
   "execution_count": null,
   "metadata": {},
   "outputs": [],
   "source": [
    "# each plot is 0.1 inches\n",
    "shap.plots.violin(shap_values, feature_names = feat_names, plot_size=0.1)"
   ]
  },
  {
   "cell_type": "code",
   "execution_count": null,
   "metadata": {},
   "outputs": [],
   "source": [
    "# scale: 1x3 inches\n",
    "shap.plots.violin(shap_values, feature_names = feat_names, plot_size=(1,3))"
   ]
  },
  {
   "cell_type": "markdown",
   "metadata": {},
   "source": [
    "<hr>\n",
    "Have an idea for more helpful examples? Pull requests that add to this documentation notebook are encouraged! "
   ]
  }
 ],
 "metadata": {
  "kernelspec": {
   "display_name": "Python 3 (ipykernel)",
   "language": "python",
   "name": "python3"
  },
  "language_info": {
   "codemirror_mode": {
    "name": "ipython",
    "version": 3
   },
   "file_extension": ".py",
   "mimetype": "text/x-python",
   "name": "python",
   "nbconvert_exporter": "python",
   "pygments_lexer": "ipython3",
   "version": "3.11.3"
  }
 },
 "nbformat": 4,
 "nbformat_minor": 2
}

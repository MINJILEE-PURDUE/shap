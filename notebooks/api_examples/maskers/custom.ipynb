{
 "cells": [
  {
   "cell_type": "markdown",
   "metadata": {},
   "source": [
    "# Using a custom masker\n",
    "\n",
    "Here we show how to provide a custom Masker to any of the SHAP model agnostic explanation methods. Masking can often be domain dependent and so it often helpful to consider alternative ways to perturb your data beyond the default ones included with SHAP."
   ]
  },
  {
   "cell_type": "code",
   "execution_count": null,
   "metadata": {},
   "outputs": [],
   "source": [
    "import xgboost\n",
    "import shap\n",
    "import numpy as np\n",
    "\n",
    "# train XGBoost model\n",
    "X,y = shap.datasets.adult()\n",
    "model = xgboost.XGBClassifier().fit(X.values, y)\n",
    "\n",
    "# A masking function takes a binary mask vector as the first argument and\n",
    "# the model arguments for a single sample after that\n",
    "# It returns a masked version of the input x, where you can return multiple\n",
    "# rows to average over a distribution of masking types\n",
    "def custom_masker(mask, x):\n",
    "    return (x * mask).reshape(1,len(x)) # in this simple example we just zero out the features we are masking\n",
    "\n",
    "# compute SHAP values\n",
    "explainer = shap.Explainer(model.predict_proba, custom_masker)\n",
    "shap_values = explainer(X[:100])\n",
    "\n",
    "# plot the SHAP values for the positive class\n",
    "shap.plots.beeswarm(shap_values[...,1])"
   ]
  },
  {
   "cell_type": "markdown",
   "metadata": {},
   "source": [
    "<hr>\n",
    "Have an idea for more helpful examples? Pull requests that add to this documentation notebook are encouraged! "
   ]
  }
 ],
 "metadata": {
  "kernelspec": {
   "display_name": "Python 3",
   "language": "python",
   "name": "python3"
  },
  "language_info": {
   "codemirror_mode": {
    "name": "ipython",
    "version": 3
   },
   "file_extension": ".py",
   "mimetype": "text/x-python",
   "name": "python",
   "nbconvert_exporter": "python",
   "pygments_lexer": "ipython3",
   "version": "3.7.4"
  }
 },
 "nbformat": 4,
 "nbformat_minor": 2
}

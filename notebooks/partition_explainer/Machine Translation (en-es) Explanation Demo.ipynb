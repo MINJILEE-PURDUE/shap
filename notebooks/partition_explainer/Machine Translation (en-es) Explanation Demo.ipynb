{
 "metadata": {
  "language_info": {
   "codemirror_mode": {
    "name": "ipython",
    "version": 3
   },
   "file_extension": ".py",
   "mimetype": "text/x-python",
   "name": "python",
   "nbconvert_exporter": "python",
   "pygments_lexer": "ipython3",
   "version": "3.8.5-final"
  },
  "orig_nbformat": 2,
  "kernelspec": {
   "name": "Python 3.8.5 64-bit",
   "display_name": "Python 3.8.5 64-bit",
   "metadata": {
    "interpreter": {
     "hash": "055a9eea696f8feaedde792ab6a62d395f82bb567379528fa7782c67c6efb646"
    }
   }
  }
 },
 "nbformat": 4,
 "nbformat_minor": 2,
 "cells": [
  {
   "cell_type": "code",
   "execution_count": 1,
   "metadata": {},
   "outputs": [],
   "source": [
    "import os\n",
    "import copy\n",
    "import shutil\n",
    "import pandas as pd\n",
    "import numpy as np\n",
    "import matplotlib.pyplot as plt\n",
    "%matplotlib inline\n",
    "from transformers import AutoTokenizer, AutoModelWithLMHead\n",
    "import shap\n",
    "from shap.utils import GenerateLogits\n",
    "import scipy as sp\n",
    "import nlp\n",
    "import torch"
   ]
  },
  {
   "cell_type": "code",
   "execution_count": 2,
   "metadata": {},
   "outputs": [],
   "source": [
    "tokenizer = AutoTokenizer.from_pretrained(\"Helsinki-NLP/opus-mt-en-es\",use_fast=True)\n",
    "model = AutoModelWithLMHead.from_pretrained(\"Helsinki-NLP/opus-mt-en-es\").cuda()"
   ]
  },
  {
   "cell_type": "code",
   "execution_count": 3,
   "metadata": {},
   "outputs": [],
   "source": [
    "# Instantiate object of GenerateLogits with model and tokenizer\n",
    "logit_generator_model = GenerateLogits(model=model,tokenizer=tokenizer)"
   ]
  },
  {
   "cell_type": "code",
   "execution_count": 4,
   "metadata": {},
   "outputs": [],
   "source": [
    "def gen_kwargs(x):\n",
    "    model.eval()\n",
    "    input_ids = torch.tensor([tokenizer.encode(x)]).cuda()\n",
    "    with torch.no_grad():\n",
    "        # generate input ids for output translation which we aim to explain\n",
    "        out=model.generate(input_ids)\n",
    "    target_sentence_ids = out[:,1:-1].cuda()\n",
    "    output_names = logit_generator_model.get_output_names(target_sentence_ids)\n",
    "    del out, input_ids\n",
    "    return {'target_sentence_ids':target_sentence_ids,'output_names':output_names}"
   ]
  },
  {
   "cell_type": "code",
   "execution_count": 5,
   "metadata": {},
   "outputs": [],
   "source": [
    "# This function defines the additional arguments passed onto the model function required inorder to get conditional logits corresponding to the original input sentence translation\n",
    "def f_kwargs(x):\n",
    "    kwargs = gen_kwargs(x)\n",
    "    return kwargs"
   ]
  },
  {
   "cell_type": "code",
   "execution_count": 6,
   "metadata": {},
   "outputs": [],
   "source": [
    "def f(x_batch,**kwargs):\n",
    "    output_batch=[]\n",
    "    # Extract target sentence for which we want to generate conditional logits\n",
    "    target_sentence_ids=kwargs['target_sentence_ids']\n",
    "    for i,source_sentence in enumerate(x_batch):\n",
    "        conditional_logits = logit_generator_model.generate_logits(source_sentence,target_sentence_ids)\n",
    "        output_batch.append(conditional_logits)\n",
    "    return np.array(output_batch)"
   ]
  },
  {
   "cell_type": "code",
   "execution_count": 7,
   "metadata": {},
   "outputs": [],
   "source": [
    "# Example function which returns a summary ids \n",
    "def example_summarize(x,model,tokenizer):\n",
    "    print(f\"Input: {x}\")\n",
    "    inputs = tokenizer([x], max_length=512, return_tensors='pt',truncation=True)\n",
    "    input_ids=inputs['input_ids'].cuda()\n",
    "    summary_ids = model.generate(input_ids).detach().cpu().numpy()\n",
    "    del input_ids\n",
    "    summary=[tokenizer.decode(g, skip_special_tokens=True, clean_up_tokenization_spaces=False) for g in summary_ids]\n",
    "    print(f\"summary: {summary[0]}\")\n",
    "    return summary_ids[0,1:-1]"
   ]
  },
  {
   "cell_type": "code",
   "execution_count": 8,
   "metadata": {
    "tags": []
   },
   "outputs": [
    {
     "output_type": "stream",
     "name": "stdout",
     "text": [
      "Input: In this picture, there are four persons: my father, my mother, my brother and my sister.\n",
      "summary: En este cuadro, hay cuatro personas: mi padre, mi madre, mi hermano y mi hermana.\n"
     ]
    }
   ],
   "source": [
    "s=\"In this picture, there are four persons: my father, my mother, my brother and my sister.\"\n",
    "ids=example_summarize(s,model,tokenizer)"
   ]
  },
  {
   "cell_type": "code",
   "execution_count": 9,
   "metadata": {},
   "outputs": [],
   "source": [
    "explainer = shap.Explainer(f,tokenizer,model_kwargs=f_kwargs)"
   ]
  },
  {
   "cell_type": "code",
   "execution_count": 10,
   "metadata": {
    "tags": []
   },
   "outputs": [],
   "source": [
    "shap_values = explainer([s])"
   ]
  },
  {
   "cell_type": "code",
   "execution_count": null,
   "metadata": {},
   "outputs": [],
   "source": [
    "shap.plots.text(shap_values[0])"
   ]
  }
 ]
}
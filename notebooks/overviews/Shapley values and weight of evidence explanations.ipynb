{
 "cells": [
  {
   "cell_type": "markdown",
   "id": "bea2bfd2",
   "metadata": {},
   "source": [
    "# Shapley values and weight of evidence explanations\n",
    "\n",
    "This notebook highlights a close connection between Shapley values, as implemented in SHAP, and a classic explanation method based on the <a href=\"https://www.listendata.com/2015/03/weight-of-evidence-woe-and-information.html\">Weight of Evidence (WOE) transformation</a>. "
   ]
  },
  {
   "cell_type": "code",
   "execution_count": null,
   "id": "a76b6bb4",
   "metadata": {},
   "outputs": [],
   "source": []
  }
 ],
 "metadata": {
  "kernelspec": {
   "display_name": "Python 3 (ipykernel)",
   "language": "python",
   "name": "python3"
  },
  "language_info": {
   "codemirror_mode": {
    "name": "ipython",
    "version": 3
   },
   "file_extension": ".py",
   "mimetype": "text/x-python",
   "name": "python",
   "nbconvert_exporter": "python",
   "pygments_lexer": "ipython3",
   "version": "3.7.4"
  }
 },
 "nbformat": 4,
 "nbformat_minor": 5
}

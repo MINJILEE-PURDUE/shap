{
 "cells": [
  {
   "cell_type": "markdown",
   "metadata": {},
   "source": [
    "# Census income classification with Keras\n",
    "\n",
    "To download a copy of this notebook visit [github](https://github.com/shap/shap/tree/master/notebooks)."
   ]
  },
  {
   "cell_type": "code",
   "execution_count": null,
   "metadata": {},
   "outputs": [],
   "source": [
    "from sklearn.model_selection import train_test_split\n",
    "from keras.layers import Input, Dense, Flatten, Concatenate, concatenate, Dropout, Lambda\n",
    "from keras.models import Model\n",
    "from keras.layers.embeddings import Embedding\n",
    "from tqdm import tqdm\n",
    "import shap\n",
    "\n",
    "# print the JS visualization code to the notebook\n",
    "shap.initjs()"
   ]
  },
  {
   "cell_type": "markdown",
   "metadata": {},
   "source": [
    "## Load dataset"
   ]
  },
  {
   "cell_type": "code",
   "execution_count": null,
   "metadata": {},
   "outputs": [],
   "source": [
    "X,y = shap.datasets.adult()\n",
    "X_display,y_display = shap.datasets.adult(display=True)\n",
    "\n",
    "# normalize data (this is important for model convergence)\n",
    "dtypes = list(zip(X.dtypes.index, map(str, X.dtypes)))\n",
    "for k,dtype in dtypes:\n",
    "    if dtype == \"float32\":\n",
    "        X[k] -= X[k].mean()\n",
    "        X[k] /= X[k].std()\n",
    "\n",
    "X_train, X_valid, y_train, y_valid = train_test_split(X, y, test_size=0.2, random_state=7)"
   ]
  },
  {
   "cell_type": "markdown",
   "metadata": {},
   "source": [
    "## Train Keras model"
   ]
  },
  {
   "cell_type": "code",
   "execution_count": null,
   "metadata": {},
   "outputs": [],
   "source": [
    "# build model\n",
    "input_els = []\n",
    "encoded_els = []\n",
    "for k,dtype in dtypes:\n",
    "    input_els.append(Input(shape=(1,)))\n",
    "    if dtype == \"int8\":\n",
    "        e = Flatten()(Embedding(X_train[k].max()+1, 1)(input_els[-1]))\n",
    "    else:\n",
    "        e = input_els[-1]\n",
    "    encoded_els.append(e)\n",
    "encoded_els = concatenate(encoded_els)\n",
    "layer1 = Dropout(0.5)(Dense(100, activation=\"relu\")(encoded_els))\n",
    "out = Dense(1)(layer1)\n",
    "\n",
    "# train model\n",
    "regression = Model(inputs=input_els, outputs=[out])\n",
    "regression.compile(optimizer=\"adam\", loss='binary_crossentropy')\n",
    "regression.fit(\n",
    "    [X_train[k].values for k,t in dtypes],\n",
    "    y_train,\n",
    "    epochs=50,\n",
    "    batch_size=512,\n",
    "    shuffle=True,\n",
    "    validation_data=([X_valid[k].values for k,t in dtypes], y_valid)\n",
    ")"
   ]
  },
  {
   "cell_type": "markdown",
   "metadata": {},
   "source": [
    "## Explain predictions\n",
    "\n",
    "Here we take the Keras model trained above and explain why it makes different predictions for different individuals. SHAP expects model functions to take a 2D numpy array as input, so we define a wrapper function around the original Keras predict function."
   ]
  },
  {
   "cell_type": "code",
   "execution_count": null,
   "metadata": {},
   "outputs": [],
   "source": [
    "def f(X):\n",
    "    return regression.predict([X[:,i] for i in range(X.shape[1])]).flatten()"
   ]
  },
  {
   "cell_type": "markdown",
   "metadata": {},
   "source": [
    "### Explain a single prediction\n",
    "\n",
    "Here we use a selection of 50 samples from the dataset to represent \"typical\" feature values, and then use 500 perterbation samples to estimate the SHAP values for a given prediction. Note that this requires 500 * 50 evaluations of the model."
   ]
  },
  {
   "cell_type": "code",
   "execution_count": null,
   "metadata": {},
   "outputs": [],
   "source": [
    "explainer = shap.KernelExplainer(f, X.iloc[:50,:])\n",
    "shap_values = explainer.shap_values(X.iloc[299,:], nsamples=500)\n",
    "shap.force_plot(explainer.expected_value, shap_values, X_display.iloc[299,:])"
   ]
  },
  {
   "cell_type": "markdown",
   "metadata": {},
   "source": [
    "### Explain many predictions\n",
    "\n",
    "Here we repeat the above explanation process for 50 individuals. Since we are using a sampling based approximation each explanation can take a couple seconds depending on your machine setup."
   ]
  },
  {
   "cell_type": "code",
   "execution_count": null,
   "metadata": {},
   "outputs": [],
   "source": [
    "shap_values50 = explainer.shap_values(X.iloc[280:330,:], nsamples=500)"
   ]
  },
  {
   "cell_type": "code",
   "execution_count": null,
   "metadata": {},
   "outputs": [],
   "source": [
    "shap.force_plot(explainer.expected_value, shap_values50, X_display.iloc[280:330,:])"
   ]
  }
 ],
 "metadata": {
  "kernelspec": {
   "display_name": "Python 3",
   "language": "python",
   "name": "python3"
  },
  "language_info": {
   "codemirror_mode": {
    "name": "ipython",
    "version": 3
   },
   "file_extension": ".py",
   "mimetype": "text/x-python",
   "name": "python",
   "nbconvert_exporter": "python",
   "pygments_lexer": "ipython3",
   "version": "3.6.5"
  }
 },
 "nbformat": 4,
 "nbformat_minor": 1
}

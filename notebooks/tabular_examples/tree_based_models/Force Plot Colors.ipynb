{
 "cells": [
  {
   "cell_type": "markdown",
   "metadata": {},
   "source": [
    "### Force Plot Colors\n",
    "\n",
    "The dependence and summary plots create Python matplotlib plots that can be customized at will. However, the force plots generate plots in Javascript, which are harder to modify inside a notebook. In the case that the colors of the force plot want to be modified, the plot_cmap parameter can be used to change the force plot colors."
   ]
  },
  {
   "cell_type": "code",
   "execution_count": null,
   "metadata": {},
   "outputs": [],
   "source": [
    "import xgboost\n",
    "import shap\n",
    "\n",
    "# load JS visualization code to notebook\n",
    "shap.initjs() \n",
    "\n",
    "# train XGBoost model\n",
    "X,y = shap.datasets.california(n_points=1000)\n",
    "bst = xgboost.train({\"learning_rate\": 0.01}, xgboost.DMatrix(X, label=y), 100)\n",
    "\n",
    "# explain the model's predictions using SHAP values\n",
    "explainer = shap.TreeExplainer(bst)\n",
    "shap_values = explainer.shap_values(X)"
   ]
  },
  {
   "cell_type": "code",
   "execution_count": 3,
   "metadata": {
    "ExecuteTime": {
     "end_time": "2023-09-15T20:10:17.453809601Z",
     "start_time": "2023-09-15T20:10:17.450822679Z"
    }
   },
   "outputs": [
    {
     "data": {
      "text/plain": "<shap.plots._force.AdditiveForceVisualizer at 0x7ff58d63f010>",
      "text/html": "\n<div id='iMBSV2ZFUXAHPR2ZSBLHG'>\n<div style='color: #900; text-align: center;'>\n  <b>Visualization omitted, Javascript library not loaded!</b><br>\n  Have you run `initjs()` in this notebook? If this notebook was from another\n  user you must also trust this notebook (File -> Trust notebook). If you are viewing\n  this notebook on github the Javascript has been stripped for security. If you are using\n  JupyterLab this error is because a JupyterLab extension has not yet been written.\n</div></div>\n <script>\n   if (window.SHAP) SHAP.ReactDom.render(\n    SHAP.React.createElement(SHAP.AdditiveForceVisualizer, {\"outNames\": [\"f(x)\"], \"baseValue\": 1.4564001560211182, \"outValue\": 1.1692663431167603, \"link\": \"identity\", \"featureNames\": [\"MedInc\", \"HouseAge\", \"AveRooms\", \"AveBedrms\", \"Population\", \"AveOccup\", \"Latitude\", \"Longitude\"], \"features\": {\"0\": {\"effect\": 0.07913036644458771, \"value\": 4.1518}, \"1\": {\"effect\": -0.00036801418173126876, \"value\": 22.0}, \"2\": {\"effect\": -0.009093938395380974, \"value\": 5.663072776280323}, \"3\": {\"effect\": 0.010686475783586502, \"value\": 1.0754716981132075}, \"4\": {\"effect\": 0.005109852179884911, \"value\": 1551.0}, \"5\": {\"effect\": -0.2064266800880432, \"value\": 4.180592991913747}, \"6\": {\"effect\": 0.041406113654375076, \"value\": 32.58}, \"7\": {\"effect\": -0.20757797360420227, \"value\": -117.05}}, \"plot_cmap\": \"RdBu\", \"labelMargin\": 20}),\n    document.getElementById('iMBSV2ZFUXAHPR2ZSBLHG')\n  );\n</script>"
     },
     "execution_count": 3,
     "metadata": {},
     "output_type": "execute_result"
    }
   ],
   "source": [
    "# visualize the first prediction's explaination with default colors\n",
    "shap.force_plot(explainer.expected_value, shap_values[0,:], X.iloc[0,:])"
   ]
  },
  {
   "cell_type": "markdown",
   "metadata": {},
   "source": [
    "The plot color maps are named based on the color maps on matplotlib. "
   ]
  },
  {
   "cell_type": "code",
   "execution_count": 4,
   "metadata": {
    "ExecuteTime": {
     "end_time": "2023-09-15T20:10:19.080112786Z",
     "start_time": "2023-09-15T20:10:19.073365415Z"
    }
   },
   "outputs": [
    {
     "data": {
      "text/plain": "<shap.plots._force.AdditiveForceVisualizer at 0x7ff58d4be950>",
      "text/html": "\n<div id='i1L14SE2SL1L25II6IBLI'>\n<div style='color: #900; text-align: center;'>\n  <b>Visualization omitted, Javascript library not loaded!</b><br>\n  Have you run `initjs()` in this notebook? If this notebook was from another\n  user you must also trust this notebook (File -> Trust notebook). If you are viewing\n  this notebook on github the Javascript has been stripped for security. If you are using\n  JupyterLab this error is because a JupyterLab extension has not yet been written.\n</div></div>\n <script>\n   if (window.SHAP) SHAP.ReactDom.render(\n    SHAP.React.createElement(SHAP.AdditiveForceVisualizer, {\"outNames\": [\"f(x)\"], \"baseValue\": 1.4564001560211182, \"outValue\": 1.1692663431167603, \"link\": \"identity\", \"featureNames\": [\"MedInc\", \"HouseAge\", \"AveRooms\", \"AveBedrms\", \"Population\", \"AveOccup\", \"Latitude\", \"Longitude\"], \"features\": {\"0\": {\"effect\": 0.07913036644458771, \"value\": 4.1518}, \"1\": {\"effect\": -0.00036801418173126876, \"value\": 22.0}, \"2\": {\"effect\": -0.009093938395380974, \"value\": 5.663072776280323}, \"3\": {\"effect\": 0.010686475783586502, \"value\": 1.0754716981132075}, \"4\": {\"effect\": 0.005109852179884911, \"value\": 1551.0}, \"5\": {\"effect\": -0.2064266800880432, \"value\": 4.180592991913747}, \"6\": {\"effect\": 0.041406113654375076, \"value\": 32.58}, \"7\": {\"effect\": -0.20757797360420227, \"value\": -117.05}}, \"plot_cmap\": \"PkYg\", \"labelMargin\": 20}),\n    document.getElementById('i1L14SE2SL1L25II6IBLI')\n  );\n</script>"
     },
     "execution_count": 4,
     "metadata": {},
     "output_type": "execute_result"
    }
   ],
   "source": [
    "# visualize the first prediction's explaination with a Pink and Yellow Green color map.\n",
    "shap.force_plot(explainer.expected_value, shap_values[0,:], X.iloc[0,:], plot_cmap=\"PkYg\")"
   ]
  },
  {
   "cell_type": "markdown",
   "metadata": {},
   "source": [
    "The same can be applied to lists of explanations"
   ]
  },
  {
   "cell_type": "code",
   "execution_count": 5,
   "metadata": {
    "ExecuteTime": {
     "end_time": "2023-09-15T20:10:22.504724933Z",
     "start_time": "2023-09-15T20:10:22.450262700Z"
    }
   },
   "outputs": [
    {
     "data": {
      "text/plain": "<shap.plots._force.AdditiveForceArrayVisualizer at 0x7ff58d50cad0>",
      "text/html": "\n<div id='iREBO5FSEA9JD0CI1H0J9'>\n<div style='color: #900; text-align: center;'>\n  <b>Visualization omitted, Javascript library not loaded!</b><br>\n  Have you run `initjs()` in this notebook? If this notebook was from another\n  user you must also trust this notebook (File -> Trust notebook). If you are viewing\n  this notebook on github the Javascript has been stripped for security. If you are using\n  JupyterLab this error is because a JupyterLab extension has not yet been written.\n</div></div>\n <script>\n   if (window.SHAP) SHAP.ReactDom.render(\n    SHAP.React.createElement(SHAP.AdditiveForceArrayVisualizer, {\"outNames\": [\"f(x)\"], \"baseValue\": 1.4564001560211182, \"link\": \"identity\", \"featureNames\": [\"MedInc\", \"HouseAge\", \"AveRooms\", \"AveBedrms\", \"Population\", \"AveOccup\", \"Latitude\", \"Longitude\"], \"explanations\": [{\"outValue\": 1.1692663431167603, \"simIndex\": 3.0, \"features\": {\"0\": {\"effect\": 0.07913036644458771, \"value\": 4.1518}, \"1\": {\"effect\": -0.00036801418173126876, \"value\": 22.0}, \"2\": {\"effect\": -0.009093938395380974, \"value\": 5.663072776280323}, \"3\": {\"effect\": 0.010686475783586502, \"value\": 1.0754716981132075}, \"4\": {\"effect\": 0.005109852179884911, \"value\": 1551.0}, \"5\": {\"effect\": -0.2064266800880432, \"value\": 4.180592991913747}, \"6\": {\"effect\": 0.041406113654375076, \"value\": 32.58}, \"7\": {\"effect\": -0.20757797360420227, \"value\": -117.05}}}, {\"outValue\": 1.8167459964752197, \"simIndex\": 2.0, \"features\": {\"0\": {\"effect\": 0.4835982024669647, \"value\": 5.7796}, \"1\": {\"effect\": 0.016662469133734703, \"value\": 32.0}, \"2\": {\"effect\": -0.019632384181022644, \"value\": 6.107226107226107}, \"3\": {\"effect\": -0.07890585064888, \"value\": 0.9277389277389277}, \"4\": {\"effect\": 0.0019127974519506097, \"value\": 1296.0}, \"5\": {\"effect\": -0.1277281641960144, \"value\": 3.020979020979021}, \"6\": {\"effect\": 0.08316896855831146, \"value\": 33.92}, \"7\": {\"effect\": 0.0012698544887825847, \"value\": -117.97}}}, {\"outValue\": 1.3793798685073853, \"simIndex\": 4.0, \"features\": {\"0\": {\"effect\": 0.1609303504228592, \"value\": 4.3487}, \"1\": {\"effect\": 0.0038758493028581142, \"value\": 29.0}, \"2\": {\"effect\": -0.007607502397149801, \"value\": 5.930711610486892}, \"3\": {\"effect\": 0.004493116866797209, \"value\": 1.0262172284644195}, \"4\": {\"effect\": 0.012498589232563972, \"value\": 1554.0}, \"5\": {\"effect\": -0.04079531133174896, \"value\": 2.9101123595505616}, \"6\": {\"effect\": -0.26961496472358704, \"value\": 38.65}, \"7\": {\"effect\": 0.05919957533478737, \"value\": -121.84}}}, {\"outValue\": 0.9438434839248657, \"simIndex\": 1.0, \"features\": {\"0\": {\"effect\": -0.37759634852409363, \"value\": 2.4511}, \"1\": {\"effect\": 0.019339075312018394, \"value\": 37.0}, \"2\": {\"effect\": -0.04099798947572708, \"value\": 4.992957746478873}, \"3\": {\"effect\": 0.005723879206925631, \"value\": 1.3169014084507042}, \"4\": {\"effect\": -0.01597919873893261, \"value\": 390.0}, \"5\": {\"effect\": -0.02848808653652668, \"value\": 2.7464788732394365}, \"6\": {\"effect\": 0.13727712631225586, \"value\": 33.2}, \"7\": {\"effect\": -0.21183516085147858, \"value\": -115.6}}}, {\"outValue\": 2.395158290863037, \"simIndex\": 5.0, \"features\": {\"0\": {\"effect\": 0.34826377034187317, \"value\": 5.0049}, \"1\": {\"effect\": 0.030049510300159454, \"value\": 25.0}, \"2\": {\"effect\": -0.008121752180159092, \"value\": 4.319261213720317}, \"3\": {\"effect\": 0.045735858380794525, \"value\": 1.0395778364116095}, \"4\": {\"effect\": -0.07087438553571701, \"value\": 649.0}, \"5\": {\"effect\": 0.47272804379463196, \"value\": 1.712401055408971}, \"6\": {\"effect\": 0.0031261106487363577, \"value\": 37.79}, \"7\": {\"effect\": 0.11785084754228592, \"value\": -122.43}}}], \"plot_cmap\": \"DrDb\", \"ordering_keys\": null, \"ordering_keys_time_format\": null}),\n    document.getElementById('iREBO5FSEA9JD0CI1H0J9')\n  );\n</script>"
     },
     "execution_count": 5,
     "metadata": {},
     "output_type": "execute_result"
    }
   ],
   "source": [
    "# visualize the first 5 predictions explanations with a dark red dark blue color map.\n",
    "shap.force_plot(explainer.expected_value, shap_values[0:5,:], X.iloc[0:5,:], plot_cmap=\"DrDb\")"
   ]
  },
  {
   "cell_type": "markdown",
   "metadata": {},
   "source": [
    " The different color map names are available in the color-set.js file. To add one, modify the file with a color map name, and a list containing the two colors of the color map, the first one being the one for positive SHAP values, and the second one for the negative SHAP values. You can also pass a list of colors as the value for the plot_cmap parameter to render the force plot with those colors. Those colors must be hex-coded."
   ]
  },
  {
   "cell_type": "code",
   "execution_count": 6,
   "metadata": {
    "ExecuteTime": {
     "end_time": "2023-09-15T20:10:27.411492668Z",
     "start_time": "2023-09-15T20:10:27.373560180Z"
    }
   },
   "outputs": [
    {
     "data": {
      "text/plain": "<shap.plots._force.AdditiveForceArrayVisualizer at 0x7ff58d50c2d0>",
      "text/html": "\n<div id='i1NQ6CTMAJ4VYXPDBQS2Y'>\n<div style='color: #900; text-align: center;'>\n  <b>Visualization omitted, Javascript library not loaded!</b><br>\n  Have you run `initjs()` in this notebook? If this notebook was from another\n  user you must also trust this notebook (File -> Trust notebook). If you are viewing\n  this notebook on github the Javascript has been stripped for security. If you are using\n  JupyterLab this error is because a JupyterLab extension has not yet been written.\n</div></div>\n <script>\n   if (window.SHAP) SHAP.ReactDom.render(\n    SHAP.React.createElement(SHAP.AdditiveForceArrayVisualizer, {\"outNames\": [\"f(x)\"], \"baseValue\": 1.4564001560211182, \"link\": \"identity\", \"featureNames\": [\"MedInc\", \"HouseAge\", \"AveRooms\", \"AveBedrms\", \"Population\", \"AveOccup\", \"Latitude\", \"Longitude\"], \"explanations\": [{\"outValue\": 1.1692663431167603, \"simIndex\": 3.0, \"features\": {\"0\": {\"effect\": 0.07913036644458771, \"value\": 4.1518}, \"1\": {\"effect\": -0.00036801418173126876, \"value\": 22.0}, \"2\": {\"effect\": -0.009093938395380974, \"value\": 5.663072776280323}, \"3\": {\"effect\": 0.010686475783586502, \"value\": 1.0754716981132075}, \"4\": {\"effect\": 0.005109852179884911, \"value\": 1551.0}, \"5\": {\"effect\": -0.2064266800880432, \"value\": 4.180592991913747}, \"6\": {\"effect\": 0.041406113654375076, \"value\": 32.58}, \"7\": {\"effect\": -0.20757797360420227, \"value\": -117.05}}}, {\"outValue\": 1.8167459964752197, \"simIndex\": 2.0, \"features\": {\"0\": {\"effect\": 0.4835982024669647, \"value\": 5.7796}, \"1\": {\"effect\": 0.016662469133734703, \"value\": 32.0}, \"2\": {\"effect\": -0.019632384181022644, \"value\": 6.107226107226107}, \"3\": {\"effect\": -0.07890585064888, \"value\": 0.9277389277389277}, \"4\": {\"effect\": 0.0019127974519506097, \"value\": 1296.0}, \"5\": {\"effect\": -0.1277281641960144, \"value\": 3.020979020979021}, \"6\": {\"effect\": 0.08316896855831146, \"value\": 33.92}, \"7\": {\"effect\": 0.0012698544887825847, \"value\": -117.97}}}, {\"outValue\": 1.3793798685073853, \"simIndex\": 4.0, \"features\": {\"0\": {\"effect\": 0.1609303504228592, \"value\": 4.3487}, \"1\": {\"effect\": 0.0038758493028581142, \"value\": 29.0}, \"2\": {\"effect\": -0.007607502397149801, \"value\": 5.930711610486892}, \"3\": {\"effect\": 0.004493116866797209, \"value\": 1.0262172284644195}, \"4\": {\"effect\": 0.012498589232563972, \"value\": 1554.0}, \"5\": {\"effect\": -0.04079531133174896, \"value\": 2.9101123595505616}, \"6\": {\"effect\": -0.26961496472358704, \"value\": 38.65}, \"7\": {\"effect\": 0.05919957533478737, \"value\": -121.84}}}, {\"outValue\": 0.9438434839248657, \"simIndex\": 1.0, \"features\": {\"0\": {\"effect\": -0.37759634852409363, \"value\": 2.4511}, \"1\": {\"effect\": 0.019339075312018394, \"value\": 37.0}, \"2\": {\"effect\": -0.04099798947572708, \"value\": 4.992957746478873}, \"3\": {\"effect\": 0.005723879206925631, \"value\": 1.3169014084507042}, \"4\": {\"effect\": -0.01597919873893261, \"value\": 390.0}, \"5\": {\"effect\": -0.02848808653652668, \"value\": 2.7464788732394365}, \"6\": {\"effect\": 0.13727712631225586, \"value\": 33.2}, \"7\": {\"effect\": -0.21183516085147858, \"value\": -115.6}}}, {\"outValue\": 2.395158290863037, \"simIndex\": 5.0, \"features\": {\"0\": {\"effect\": 0.34826377034187317, \"value\": 5.0049}, \"1\": {\"effect\": 0.030049510300159454, \"value\": 25.0}, \"2\": {\"effect\": -0.008121752180159092, \"value\": 4.319261213720317}, \"3\": {\"effect\": 0.045735858380794525, \"value\": 1.0395778364116095}, \"4\": {\"effect\": -0.07087438553571701, \"value\": 649.0}, \"5\": {\"effect\": 0.47272804379463196, \"value\": 1.712401055408971}, \"6\": {\"effect\": 0.0031261106487363577, \"value\": 37.79}, \"7\": {\"effect\": 0.11785084754228592, \"value\": -122.43}}}], \"plot_cmap\": [\"#FF5733\", \"#335BFF\"], \"ordering_keys\": null, \"ordering_keys_time_format\": null}),\n    document.getElementById('i1NQ6CTMAJ4VYXPDBQS2Y')\n  );\n</script>"
     },
     "execution_count": 6,
     "metadata": {},
     "output_type": "execute_result"
    }
   ],
   "source": [
    "# visualize the first 5 predictions explanations with a custom color map.\n",
    "shap.force_plot(explainer.expected_value, shap_values[0:5,:], X.iloc[0:5,:], plot_cmap=[\"#FF5733\",\"#335BFF\"])"
   ]
  }
 ],
 "metadata": {
  "kernelspec": {
   "display_name": "Python 3",
   "language": "python",
   "name": "python3"
  },
  "language_info": {
   "codemirror_mode": {
    "name": "ipython",
    "version": 3
   },
   "file_extension": ".py",
   "mimetype": "text/x-python",
   "name": "python",
   "nbconvert_exporter": "python",
   "pygments_lexer": "ipython3",
   "version": "3.6.5"
  }
 },
 "nbformat": 4,
 "nbformat_minor": 2
}

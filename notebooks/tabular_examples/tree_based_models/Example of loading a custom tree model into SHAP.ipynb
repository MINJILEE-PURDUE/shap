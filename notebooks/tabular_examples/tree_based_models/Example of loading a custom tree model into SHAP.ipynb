{
 "cells": [
  {
   "cell_type": "markdown",
   "source": [
    "# Example of loading a custom tree model into SHAP\n",
    "\n",
    "This notebook shows how to pass a custom tree ensemble model into SHAP for explanation."
   ],
   "metadata": {
    "collapsed": false
   }
  },
  {
   "cell_type": "code",
   "execution_count": 1,
   "outputs": [],
   "source": [
    "import graphviz\n",
    "import numpy as np\n",
    "import scipy\n",
    "import sklearn\n",
    "\n",
    "import shap"
   ],
   "metadata": {
    "collapsed": false,
    "ExecuteTime": {
     "end_time": "2023-10-14T12:42:44.754989358Z",
     "start_time": "2023-10-14T12:42:42.733228546Z"
    }
   }
  },
  {
   "cell_type": "markdown",
   "source": [
    "## Simple regression tree model\n",
    "\n",
    "Here we define a simple regression tree and then load it into SHAP as a custom model."
   ],
   "metadata": {
    "collapsed": false
   }
  },
  {
   "cell_type": "code",
   "execution_count": 2,
   "outputs": [
    {
     "data": {
      "text/plain": "DecisionTreeRegressor(max_depth=2)",
      "text/html": "<style>#sk-container-id-1 {color: black;}#sk-container-id-1 pre{padding: 0;}#sk-container-id-1 div.sk-toggleable {background-color: white;}#sk-container-id-1 label.sk-toggleable__label {cursor: pointer;display: block;width: 100%;margin-bottom: 0;padding: 0.3em;box-sizing: border-box;text-align: center;}#sk-container-id-1 label.sk-toggleable__label-arrow:before {content: \"▸\";float: left;margin-right: 0.25em;color: #696969;}#sk-container-id-1 label.sk-toggleable__label-arrow:hover:before {color: black;}#sk-container-id-1 div.sk-estimator:hover label.sk-toggleable__label-arrow:before {color: black;}#sk-container-id-1 div.sk-toggleable__content {max-height: 0;max-width: 0;overflow: hidden;text-align: left;background-color: #f0f8ff;}#sk-container-id-1 div.sk-toggleable__content pre {margin: 0.2em;color: black;border-radius: 0.25em;background-color: #f0f8ff;}#sk-container-id-1 input.sk-toggleable__control:checked~div.sk-toggleable__content {max-height: 200px;max-width: 100%;overflow: auto;}#sk-container-id-1 input.sk-toggleable__control:checked~label.sk-toggleable__label-arrow:before {content: \"▾\";}#sk-container-id-1 div.sk-estimator input.sk-toggleable__control:checked~label.sk-toggleable__label {background-color: #d4ebff;}#sk-container-id-1 div.sk-label input.sk-toggleable__control:checked~label.sk-toggleable__label {background-color: #d4ebff;}#sk-container-id-1 input.sk-hidden--visually {border: 0;clip: rect(1px 1px 1px 1px);clip: rect(1px, 1px, 1px, 1px);height: 1px;margin: -1px;overflow: hidden;padding: 0;position: absolute;width: 1px;}#sk-container-id-1 div.sk-estimator {font-family: monospace;background-color: #f0f8ff;border: 1px dotted black;border-radius: 0.25em;box-sizing: border-box;margin-bottom: 0.5em;}#sk-container-id-1 div.sk-estimator:hover {background-color: #d4ebff;}#sk-container-id-1 div.sk-parallel-item::after {content: \"\";width: 100%;border-bottom: 1px solid gray;flex-grow: 1;}#sk-container-id-1 div.sk-label:hover label.sk-toggleable__label {background-color: #d4ebff;}#sk-container-id-1 div.sk-serial::before {content: \"\";position: absolute;border-left: 1px solid gray;box-sizing: border-box;top: 0;bottom: 0;left: 50%;z-index: 0;}#sk-container-id-1 div.sk-serial {display: flex;flex-direction: column;align-items: center;background-color: white;padding-right: 0.2em;padding-left: 0.2em;position: relative;}#sk-container-id-1 div.sk-item {position: relative;z-index: 1;}#sk-container-id-1 div.sk-parallel {display: flex;align-items: stretch;justify-content: center;background-color: white;position: relative;}#sk-container-id-1 div.sk-item::before, #sk-container-id-1 div.sk-parallel-item::before {content: \"\";position: absolute;border-left: 1px solid gray;box-sizing: border-box;top: 0;bottom: 0;left: 50%;z-index: -1;}#sk-container-id-1 div.sk-parallel-item {display: flex;flex-direction: column;z-index: 1;position: relative;background-color: white;}#sk-container-id-1 div.sk-parallel-item:first-child::after {align-self: flex-end;width: 50%;}#sk-container-id-1 div.sk-parallel-item:last-child::after {align-self: flex-start;width: 50%;}#sk-container-id-1 div.sk-parallel-item:only-child::after {width: 0;}#sk-container-id-1 div.sk-dashed-wrapped {border: 1px dashed gray;margin: 0 0.4em 0.5em 0.4em;box-sizing: border-box;padding-bottom: 0.4em;background-color: white;}#sk-container-id-1 div.sk-label label {font-family: monospace;font-weight: bold;display: inline-block;line-height: 1.2em;}#sk-container-id-1 div.sk-label-container {text-align: center;}#sk-container-id-1 div.sk-container {/* jupyter's `normalize.less` sets `[hidden] { display: none; }` but bootstrap.min.css set `[hidden] { display: none !important; }` so we also need the `!important` here to be able to override the default hidden behavior on the sphinx rendered scikit-learn.org. See: https://github.com/scikit-learn/scikit-learn/issues/21755 */display: inline-block !important;position: relative;}#sk-container-id-1 div.sk-text-repr-fallback {display: none;}</style><div id=\"sk-container-id-1\" class=\"sk-top-container\"><div class=\"sk-text-repr-fallback\"><pre>DecisionTreeRegressor(max_depth=2)</pre><b>In a Jupyter environment, please rerun this cell to show the HTML representation or trust the notebook. <br />On GitHub, the HTML representation is unable to render, please try loading this page with nbviewer.org.</b></div><div class=\"sk-container\" hidden><div class=\"sk-item\"><div class=\"sk-estimator sk-toggleable\"><input class=\"sk-toggleable__control sk-hidden--visually\" id=\"sk-estimator-id-1\" type=\"checkbox\" checked><label for=\"sk-estimator-id-1\" class=\"sk-toggleable__label sk-toggleable__label-arrow\">DecisionTreeRegressor</label><div class=\"sk-toggleable__content\"><pre>DecisionTreeRegressor(max_depth=2)</pre></div></div></div></div></div>"
     },
     "execution_count": 2,
     "metadata": {},
     "output_type": "execute_result"
    }
   ],
   "source": [
    "X, y = shap.datasets.california(n_points=1000)\n",
    "\n",
    "orig_model = sklearn.tree.DecisionTreeRegressor(max_depth=2)\n",
    "orig_model.fit(X, y)"
   ],
   "metadata": {
    "collapsed": false,
    "ExecuteTime": {
     "end_time": "2023-10-14T12:42:44.796332969Z",
     "start_time": "2023-10-14T12:42:44.795509870Z"
    }
   }
  },
  {
   "cell_type": "code",
   "execution_count": 3,
   "outputs": [
    {
     "data": {
      "image/svg+xml": "<?xml version=\"1.0\" encoding=\"UTF-8\" standalone=\"no\"?>\n<!DOCTYPE svg PUBLIC \"-//W3C//DTD SVG 1.1//EN\"\n \"http://www.w3.org/Graphics/SVG/1.1/DTD/svg11.dtd\">\n<!-- Generated by graphviz version 7.1.0 (0)\n -->\n<!-- Title: Tree Pages: 1 -->\n<svg width=\"666pt\" height=\"261pt\"\n viewBox=\"0.00 0.00 666.00 261.00\" xmlns=\"http://www.w3.org/2000/svg\" xmlns:xlink=\"http://www.w3.org/1999/xlink\">\n<g id=\"graph0\" class=\"graph\" transform=\"scale(1 1) rotate(0) translate(4 257)\">\n<title>Tree</title>\n<polygon fill=\"white\" stroke=\"none\" points=\"-4,4 -4,-257 662,-257 662,4 -4,4\"/>\n<!-- 0 -->\n<g id=\"node1\" class=\"node\">\n<title>0</title>\n<path fill=\"#f9e4d5\" stroke=\"black\" d=\"M392,-253C392,-253 265,-253 265,-253 259,-253 253,-247 253,-241 253,-241 253,-201 253,-201 253,-195 259,-189 265,-189 265,-189 392,-189 392,-189 398,-189 404,-195 404,-201 404,-201 404,-241 404,-241 404,-247 398,-253 392,-253\"/>\n<text text-anchor=\"start\" x=\"297\" y=\"-238.8\" font-family=\"Helvetica,sans-Serif\" font-size=\"14.00\">x</text>\n<text text-anchor=\"start\" x=\"304\" y=\"-238.8\" font-family=\"Helvetica,sans-Serif\" baseline-shift=\"sub\" font-size=\"14.00\">0</text>\n<text text-anchor=\"start\" x=\"311\" y=\"-238.8\" font-family=\"Helvetica,sans-Serif\" font-size=\"14.00\"> ≤ 5.771</text>\n<text text-anchor=\"start\" x=\"261\" y=\"-224.8\" font-family=\"Helvetica,sans-Serif\" font-size=\"14.00\">squared_error = 1.394</text>\n<text text-anchor=\"start\" x=\"280\" y=\"-210.8\" font-family=\"Helvetica,sans-Serif\" font-size=\"14.00\">samples = 1000</text>\n<text text-anchor=\"start\" x=\"287.5\" y=\"-196.8\" font-family=\"Helvetica,sans-Serif\" font-size=\"14.00\">value = 2.045</text>\n</g>\n<!-- 1 -->\n<g id=\"node2\" class=\"node\">\n<title>1</title>\n<path fill=\"#fcefe6\" stroke=\"black\" d=\"M308,-153C308,-153 181,-153 181,-153 175,-153 169,-147 169,-141 169,-141 169,-101 169,-101 169,-95 175,-89 181,-89 181,-89 308,-89 308,-89 314,-89 320,-95 320,-101 320,-101 320,-141 320,-141 320,-147 314,-153 308,-153\"/>\n<text text-anchor=\"start\" x=\"216.5\" y=\"-138.8\" font-family=\"Helvetica,sans-Serif\" font-size=\"14.00\">x</text>\n<text text-anchor=\"start\" x=\"223.5\" y=\"-138.8\" font-family=\"Helvetica,sans-Serif\" baseline-shift=\"sub\" font-size=\"14.00\">0</text>\n<text text-anchor=\"start\" x=\"230.5\" y=\"-138.8\" font-family=\"Helvetica,sans-Serif\" font-size=\"14.00\"> ≤ 3.31</text>\n<text text-anchor=\"start\" x=\"177\" y=\"-124.8\" font-family=\"Helvetica,sans-Serif\" font-size=\"14.00\">squared_error = 0.945</text>\n<text text-anchor=\"start\" x=\"199.5\" y=\"-110.8\" font-family=\"Helvetica,sans-Serif\" font-size=\"14.00\">samples = 882</text>\n<text text-anchor=\"start\" x=\"203.5\" y=\"-96.8\" font-family=\"Helvetica,sans-Serif\" font-size=\"14.00\">value = 1.801</text>\n</g>\n<!-- 0&#45;&gt;1 -->\n<g id=\"edge1\" class=\"edge\">\n<title>0&#45;&gt;1</title>\n<path fill=\"none\" stroke=\"black\" d=\"M301.69,-188.72C294.42,-180.24 286.44,-170.93 278.81,-162.03\"/>\n<polygon fill=\"black\" stroke=\"black\" points=\"281.49,-159.78 272.33,-154.47 276.18,-164.34 281.49,-159.78\"/>\n<text text-anchor=\"middle\" x=\"269.43\" y=\"-174.54\" font-family=\"Helvetica,sans-Serif\" font-size=\"14.00\">True</text>\n</g>\n<!-- 4 -->\n<g id=\"node5\" class=\"node\">\n<title>4</title>\n<path fill=\"#e99457\" stroke=\"black\" d=\"M477,-153C477,-153 350,-153 350,-153 344,-153 338,-147 338,-141 338,-141 338,-101 338,-101 338,-95 344,-89 350,-89 350,-89 477,-89 477,-89 483,-89 489,-95 489,-101 489,-101 489,-141 489,-141 489,-147 483,-153 477,-153\"/>\n<text text-anchor=\"start\" x=\"382\" y=\"-138.8\" font-family=\"Helvetica,sans-Serif\" font-size=\"14.00\">x</text>\n<text text-anchor=\"start\" x=\"389\" y=\"-138.8\" font-family=\"Helvetica,sans-Serif\" baseline-shift=\"sub\" font-size=\"14.00\">0</text>\n<text text-anchor=\"start\" x=\"396\" y=\"-138.8\" font-family=\"Helvetica,sans-Serif\" font-size=\"14.00\"> ≤ 6.615</text>\n<text text-anchor=\"start\" x=\"346\" y=\"-124.8\" font-family=\"Helvetica,sans-Serif\" font-size=\"14.00\">squared_error = 0.979</text>\n<text text-anchor=\"start\" x=\"369\" y=\"-110.8\" font-family=\"Helvetica,sans-Serif\" font-size=\"14.00\">samples = 118</text>\n<text text-anchor=\"start\" x=\"376\" y=\"-96.8\" font-family=\"Helvetica,sans-Serif\" font-size=\"14.00\">value = 3.87</text>\n</g>\n<!-- 0&#45;&gt;4 -->\n<g id=\"edge4\" class=\"edge\">\n<title>0&#45;&gt;4</title>\n<path fill=\"none\" stroke=\"black\" d=\"M355.63,-188.72C363.07,-180.15 371.23,-170.74 379.02,-161.75\"/>\n<polygon fill=\"black\" stroke=\"black\" points=\"381.44,-164.31 385.35,-154.46 376.15,-159.72 381.44,-164.31\"/>\n<text text-anchor=\"middle\" x=\"388.11\" y=\"-174.55\" font-family=\"Helvetica,sans-Serif\" font-size=\"14.00\">False</text>\n</g>\n<!-- 2 -->\n<g id=\"node3\" class=\"node\">\n<title>2</title>\n<path fill=\"#ffffff\" stroke=\"black\" d=\"M139,-53C139,-53 12,-53 12,-53 6,-53 0,-47 0,-41 0,-41 0,-12 0,-12 0,-6 6,0 12,0 12,0 139,0 139,0 145,0 151,-6 151,-12 151,-12 151,-41 151,-41 151,-47 145,-53 139,-53\"/>\n<text text-anchor=\"start\" x=\"8\" y=\"-37.8\" font-family=\"Helvetica,sans-Serif\" font-size=\"14.00\">squared_error = 0.662</text>\n<text text-anchor=\"start\" x=\"30.5\" y=\"-22.8\" font-family=\"Helvetica,sans-Serif\" font-size=\"14.00\">samples = 471</text>\n<text text-anchor=\"start\" x=\"34.5\" y=\"-7.8\" font-family=\"Helvetica,sans-Serif\" font-size=\"14.00\">value = 1.436</text>\n</g>\n<!-- 1&#45;&gt;2 -->\n<g id=\"edge2\" class=\"edge\">\n<title>1&#45;&gt;2</title>\n<path fill=\"none\" stroke=\"black\" d=\"M187.28,-88.68C169.59,-79 150.11,-68.34 132.43,-58.66\"/>\n<polygon fill=\"black\" stroke=\"black\" points=\"134.6,-55.86 124.15,-54.13 131.24,-62 134.6,-55.86\"/>\n</g>\n<!-- 3 -->\n<g id=\"node4\" class=\"node\">\n<title>3</title>\n<path fill=\"#f8ddc9\" stroke=\"black\" d=\"M308,-53C308,-53 181,-53 181,-53 175,-53 169,-47 169,-41 169,-41 169,-12 169,-12 169,-6 175,0 181,0 181,0 308,0 308,0 314,0 320,-6 320,-12 320,-12 320,-41 320,-41 320,-47 314,-53 308,-53\"/>\n<text text-anchor=\"start\" x=\"177\" y=\"-37.8\" font-family=\"Helvetica,sans-Serif\" font-size=\"14.00\">squared_error = 0.941</text>\n<text text-anchor=\"start\" x=\"200\" y=\"-22.8\" font-family=\"Helvetica,sans-Serif\" font-size=\"14.00\">samples = 411</text>\n<text text-anchor=\"start\" x=\"203.5\" y=\"-7.8\" font-family=\"Helvetica,sans-Serif\" font-size=\"14.00\">value = 2.218</text>\n</g>\n<!-- 1&#45;&gt;3 -->\n<g id=\"edge3\" class=\"edge\">\n<title>1&#45;&gt;3</title>\n<path fill=\"none\" stroke=\"black\" d=\"M244.5,-88.68C244.5,-80.94 244.5,-72.56 244.5,-64.57\"/>\n<polygon fill=\"black\" stroke=\"black\" points=\"248,-64.76 244.5,-54.76 241,-64.76 248,-64.76\"/>\n</g>\n<!-- 5 -->\n<g id=\"node6\" class=\"node\">\n<title>5</title>\n<path fill=\"#f0b58a\" stroke=\"black\" d=\"M477,-53C477,-53 350,-53 350,-53 344,-53 338,-47 338,-41 338,-41 338,-12 338,-12 338,-6 344,0 350,0 350,0 477,0 477,0 483,0 489,-6 489,-12 489,-12 489,-41 489,-41 489,-47 483,-53 477,-53\"/>\n<text text-anchor=\"start\" x=\"346\" y=\"-37.8\" font-family=\"Helvetica,sans-Serif\" font-size=\"14.00\">squared_error = 0.678</text>\n<text text-anchor=\"start\" x=\"372.5\" y=\"-22.8\" font-family=\"Helvetica,sans-Serif\" font-size=\"14.00\">samples = 44</text>\n<text text-anchor=\"start\" x=\"376\" y=\"-7.8\" font-family=\"Helvetica,sans-Serif\" font-size=\"14.00\">value = 3.13</text>\n</g>\n<!-- 4&#45;&gt;5 -->\n<g id=\"edge5\" class=\"edge\">\n<title>4&#45;&gt;5</title>\n<path fill=\"none\" stroke=\"black\" d=\"M413.5,-88.68C413.5,-80.94 413.5,-72.56 413.5,-64.57\"/>\n<polygon fill=\"black\" stroke=\"black\" points=\"417,-64.76 413.5,-54.76 410,-64.76 417,-64.76\"/>\n</g>\n<!-- 6 -->\n<g id=\"node7\" class=\"node\">\n<title>6</title>\n<path fill=\"#e58139\" stroke=\"black\" d=\"M646,-53C646,-53 519,-53 519,-53 513,-53 507,-47 507,-41 507,-41 507,-12 507,-12 507,-6 513,0 519,0 519,0 646,0 646,0 652,0 658,-6 658,-12 658,-12 658,-41 658,-41 658,-47 652,-53 646,-53\"/>\n<text text-anchor=\"start\" x=\"515\" y=\"-37.8\" font-family=\"Helvetica,sans-Serif\" font-size=\"14.00\">squared_error = 0.637</text>\n<text text-anchor=\"start\" x=\"541.5\" y=\"-22.8\" font-family=\"Helvetica,sans-Serif\" font-size=\"14.00\">samples = 74</text>\n<text text-anchor=\"start\" x=\"541.5\" y=\"-7.8\" font-family=\"Helvetica,sans-Serif\" font-size=\"14.00\">value = 4.311</text>\n</g>\n<!-- 4&#45;&gt;6 -->\n<g id=\"edge6\" class=\"edge\">\n<title>4&#45;&gt;6</title>\n<path fill=\"none\" stroke=\"black\" d=\"M470.72,-88.68C488.41,-79 507.89,-68.34 525.57,-58.66\"/>\n<polygon fill=\"black\" stroke=\"black\" points=\"526.76,-62 533.85,-54.13 523.4,-55.86 526.76,-62\"/>\n</g>\n</g>\n</svg>\n",
      "text/plain": "<graphviz.sources.Source at 0x7fc65b80dad0>"
     },
     "execution_count": 3,
     "metadata": {},
     "output_type": "execute_result"
    }
   ],
   "source": [
    "dot_data = sklearn.tree.export_graphviz(\n",
    "    orig_model, out_file=None, filled=True, rounded=True, special_characters=True\n",
    ")\n",
    "graph = graphviz.Source(dot_data)\n",
    "graph"
   ],
   "metadata": {
    "collapsed": false,
    "ExecuteTime": {
     "end_time": "2023-10-14T12:42:44.797024651Z",
     "start_time": "2023-10-14T12:42:44.795723061Z"
    }
   }
  },
  {
   "cell_type": "code",
   "execution_count": 4,
   "outputs": [
    {
     "name": "stdout",
     "output_type": "stream",
     "text": [
      "     children_left [ 1  2 -1 -1  5 -1 -1]\n",
      "    children_right [ 4  3 -1 -1  6 -1 -1]\n",
      "  children_default [ 4  3 -1 -1  6 -1 -1]\n",
      "          features [ 0  0 -2 -2  0 -2 -2]\n",
      "        thresholds [ 5.771  3.31  -2.    -2.     6.615 -2.    -2.   ]\n",
      "            values [[2.045]\n",
      " [1.801]\n",
      " [1.436]\n",
      " [2.218]\n",
      " [3.87 ]\n",
      " [3.13 ]\n",
      " [4.311]]\n",
      "node_sample_weight [1000.  882.  471.  411.  118.   44.   74.]\n"
     ]
    }
   ],
   "source": [
    "# extract the arrays that define the tree\n",
    "children_left = orig_model.tree_.children_left\n",
    "children_right = orig_model.tree_.children_right\n",
    "children_default = children_right.copy()  # because sklearn does not use missing values\n",
    "features = orig_model.tree_.feature\n",
    "thresholds = orig_model.tree_.threshold\n",
    "values = orig_model.tree_.value.reshape(orig_model.tree_.value.shape[0], 1)\n",
    "node_sample_weight = orig_model.tree_.weighted_n_node_samples\n",
    "\n",
    "print(\n",
    "    \"     children_left\", children_left\n",
    ")  # note that negative children values mean this is a leaf node\n",
    "print(\"    children_right\", children_right)\n",
    "print(\"  children_default\", children_default)\n",
    "print(\"          features\", features)\n",
    "print(\"        thresholds\", thresholds.round(3))\n",
    "print(\"            values\", values.round(3))\n",
    "print(\"node_sample_weight\", node_sample_weight)"
   ],
   "metadata": {
    "collapsed": false,
    "ExecuteTime": {
     "end_time": "2023-10-14T12:42:44.805719235Z",
     "start_time": "2023-10-14T12:42:44.797697447Z"
    }
   }
  },
  {
   "cell_type": "code",
   "execution_count": 5,
   "outputs": [],
   "source": [
    "# define a custom tree model\n",
    "tree_dict = {\n",
    "    \"children_left\": children_left,\n",
    "    \"children_right\": children_right,\n",
    "    \"children_default\": children_default,\n",
    "    \"features\": features,\n",
    "    \"thresholds\": thresholds,\n",
    "    \"values\": values,\n",
    "    \"node_sample_weight\": node_sample_weight,\n",
    "}\n",
    "model = {\"trees\": [tree_dict]}"
   ],
   "metadata": {
    "collapsed": false,
    "ExecuteTime": {
     "end_time": "2023-10-14T12:42:44.805872643Z",
     "start_time": "2023-10-14T12:42:44.800725817Z"
    }
   }
  },
  {
   "cell_type": "code",
   "execution_count": 6,
   "outputs": [],
   "source": [
    "explainer = shap.TreeExplainer(model)"
   ],
   "metadata": {
    "collapsed": false,
    "ExecuteTime": {
     "end_time": "2023-10-14T12:42:44.806005333Z",
     "start_time": "2023-10-14T12:42:44.803038710Z"
    }
   }
  },
  {
   "cell_type": "code",
   "execution_count": 7,
   "outputs": [],
   "source": [
    "# Make sure that the ingested SHAP model (a TreeEnsemble object) makes the\n",
    "# same predictions as the original model\n",
    "assert np.abs(explainer.model.predict(X) - orig_model.predict(X)).max() < 1e-4"
   ],
   "metadata": {
    "collapsed": false,
    "ExecuteTime": {
     "end_time": "2023-10-14T12:42:44.848819452Z",
     "start_time": "2023-10-14T12:42:44.806069404Z"
    }
   }
  },
  {
   "cell_type": "code",
   "execution_count": 8,
   "outputs": [],
   "source": [
    "# make sure the SHAP values sum up to the model output (this is the local accuracy property)\n",
    "assert (\n",
    "    np.abs(\n",
    "        explainer.expected_value\n",
    "        + explainer.shap_values(X).sum(1)\n",
    "        - orig_model.predict(X)\n",
    "    ).max()\n",
    "    < 1e-4\n",
    ")"
   ],
   "metadata": {
    "collapsed": false,
    "ExecuteTime": {
     "end_time": "2023-10-14T12:42:44.849076024Z",
     "start_time": "2023-10-14T12:42:44.848663037Z"
    }
   }
  },
  {
   "cell_type": "markdown",
   "source": [
    "## Simple GBM classification model (with 2 trees)\n",
    "\n",
    "Here we define a simple gradient-boosting classifier and then load it into SHAP as a custom model."
   ],
   "metadata": {
    "collapsed": false
   }
  },
  {
   "cell_type": "code",
   "execution_count": 9,
   "outputs": [
    {
     "data": {
      "text/plain": "GradientBoostingClassifier(n_estimators=2)",
      "text/html": "<style>#sk-container-id-2 {color: black;}#sk-container-id-2 pre{padding: 0;}#sk-container-id-2 div.sk-toggleable {background-color: white;}#sk-container-id-2 label.sk-toggleable__label {cursor: pointer;display: block;width: 100%;margin-bottom: 0;padding: 0.3em;box-sizing: border-box;text-align: center;}#sk-container-id-2 label.sk-toggleable__label-arrow:before {content: \"▸\";float: left;margin-right: 0.25em;color: #696969;}#sk-container-id-2 label.sk-toggleable__label-arrow:hover:before {color: black;}#sk-container-id-2 div.sk-estimator:hover label.sk-toggleable__label-arrow:before {color: black;}#sk-container-id-2 div.sk-toggleable__content {max-height: 0;max-width: 0;overflow: hidden;text-align: left;background-color: #f0f8ff;}#sk-container-id-2 div.sk-toggleable__content pre {margin: 0.2em;color: black;border-radius: 0.25em;background-color: #f0f8ff;}#sk-container-id-2 input.sk-toggleable__control:checked~div.sk-toggleable__content {max-height: 200px;max-width: 100%;overflow: auto;}#sk-container-id-2 input.sk-toggleable__control:checked~label.sk-toggleable__label-arrow:before {content: \"▾\";}#sk-container-id-2 div.sk-estimator input.sk-toggleable__control:checked~label.sk-toggleable__label {background-color: #d4ebff;}#sk-container-id-2 div.sk-label input.sk-toggleable__control:checked~label.sk-toggleable__label {background-color: #d4ebff;}#sk-container-id-2 input.sk-hidden--visually {border: 0;clip: rect(1px 1px 1px 1px);clip: rect(1px, 1px, 1px, 1px);height: 1px;margin: -1px;overflow: hidden;padding: 0;position: absolute;width: 1px;}#sk-container-id-2 div.sk-estimator {font-family: monospace;background-color: #f0f8ff;border: 1px dotted black;border-radius: 0.25em;box-sizing: border-box;margin-bottom: 0.5em;}#sk-container-id-2 div.sk-estimator:hover {background-color: #d4ebff;}#sk-container-id-2 div.sk-parallel-item::after {content: \"\";width: 100%;border-bottom: 1px solid gray;flex-grow: 1;}#sk-container-id-2 div.sk-label:hover label.sk-toggleable__label {background-color: #d4ebff;}#sk-container-id-2 div.sk-serial::before {content: \"\";position: absolute;border-left: 1px solid gray;box-sizing: border-box;top: 0;bottom: 0;left: 50%;z-index: 0;}#sk-container-id-2 div.sk-serial {display: flex;flex-direction: column;align-items: center;background-color: white;padding-right: 0.2em;padding-left: 0.2em;position: relative;}#sk-container-id-2 div.sk-item {position: relative;z-index: 1;}#sk-container-id-2 div.sk-parallel {display: flex;align-items: stretch;justify-content: center;background-color: white;position: relative;}#sk-container-id-2 div.sk-item::before, #sk-container-id-2 div.sk-parallel-item::before {content: \"\";position: absolute;border-left: 1px solid gray;box-sizing: border-box;top: 0;bottom: 0;left: 50%;z-index: -1;}#sk-container-id-2 div.sk-parallel-item {display: flex;flex-direction: column;z-index: 1;position: relative;background-color: white;}#sk-container-id-2 div.sk-parallel-item:first-child::after {align-self: flex-end;width: 50%;}#sk-container-id-2 div.sk-parallel-item:last-child::after {align-self: flex-start;width: 50%;}#sk-container-id-2 div.sk-parallel-item:only-child::after {width: 0;}#sk-container-id-2 div.sk-dashed-wrapped {border: 1px dashed gray;margin: 0 0.4em 0.5em 0.4em;box-sizing: border-box;padding-bottom: 0.4em;background-color: white;}#sk-container-id-2 div.sk-label label {font-family: monospace;font-weight: bold;display: inline-block;line-height: 1.2em;}#sk-container-id-2 div.sk-label-container {text-align: center;}#sk-container-id-2 div.sk-container {/* jupyter's `normalize.less` sets `[hidden] { display: none; }` but bootstrap.min.css set `[hidden] { display: none !important; }` so we also need the `!important` here to be able to override the default hidden behavior on the sphinx rendered scikit-learn.org. See: https://github.com/scikit-learn/scikit-learn/issues/21755 */display: inline-block !important;position: relative;}#sk-container-id-2 div.sk-text-repr-fallback {display: none;}</style><div id=\"sk-container-id-2\" class=\"sk-top-container\"><div class=\"sk-text-repr-fallback\"><pre>GradientBoostingClassifier(n_estimators=2)</pre><b>In a Jupyter environment, please rerun this cell to show the HTML representation or trust the notebook. <br />On GitHub, the HTML representation is unable to render, please try loading this page with nbviewer.org.</b></div><div class=\"sk-container\" hidden><div class=\"sk-item\"><div class=\"sk-estimator sk-toggleable\"><input class=\"sk-toggleable__control sk-hidden--visually\" id=\"sk-estimator-id-2\" type=\"checkbox\" checked><label for=\"sk-estimator-id-2\" class=\"sk-toggleable__label sk-toggleable__label-arrow\">GradientBoostingClassifier</label><div class=\"sk-toggleable__content\"><pre>GradientBoostingClassifier(n_estimators=2)</pre></div></div></div></div></div>"
     },
     "execution_count": 9,
     "metadata": {},
     "output_type": "execute_result"
    }
   ],
   "source": [
    "X2, y2 = shap.datasets.adult()\n",
    "orig_model2 = sklearn.ensemble.GradientBoostingClassifier(n_estimators=2)\n",
    "orig_model2.fit(X2, y2)"
   ],
   "metadata": {
    "collapsed": false,
    "ExecuteTime": {
     "end_time": "2023-10-14T12:42:44.901550234Z",
     "start_time": "2023-10-14T12:42:44.848930130Z"
    }
   }
  },
  {
   "cell_type": "markdown",
   "source": [
    "### Pull the info of the first tree"
   ],
   "metadata": {
    "collapsed": false
   }
  },
  {
   "cell_type": "code",
   "execution_count": 10,
   "outputs": [
    {
     "name": "stdout",
     "output_type": "stream",
     "text": [
      "     children_left1 [ 1  2  3 -1 -1  6 -1 -1  9 10 -1 -1 13 -1 -1]\n",
      "    children_right1 [ 8  5  4 -1 -1  7 -1 -1 12 11 -1 -1 14 -1 -1]\n",
      "  children_default1 [ 8  5  4 -1 -1  7 -1 -1 12 11 -1 -1 14 -1 -1]\n",
      "          features1 [ 5  8  2 -2 -2  0 -2 -2  2  8 -2 -2  8 -2 -2]\n",
      "        thresholds1 [ 3.5000e+00  7.0735e+03  1.2500e+01 -2.0000e+00 -2.0000e+00  2.0500e+01\n",
      " -2.0000e+00 -2.0000e+00  1.2500e+01  5.0955e+03 -2.0000e+00 -2.0000e+00\n",
      "  5.0955e+03 -2.0000e+00 -2.0000e+00]\n",
      "            values1 [[-0.   ]\n",
      " [-0.175]\n",
      " [-0.191]\n",
      " [-1.177]\n",
      " [-0.503]\n",
      " [ 0.721]\n",
      " [-0.223]\n",
      " [ 4.013]\n",
      " [ 0.211]\n",
      " [ 0.094]\n",
      " [ 0.325]\n",
      " [ 4.048]\n",
      " [ 0.483]\n",
      " [ 2.372]\n",
      " [ 4.128]]\n",
      "node_sample_weight1 [3.2561e+04 1.7800e+04 1.7482e+04 1.4036e+04 3.4460e+03 3.1800e+02\n",
      " 5.0000e+00 3.1300e+02 1.4761e+04 1.0329e+04 9.8070e+03 5.2200e+02\n",
      " 4.4320e+03 3.7540e+03 6.7800e+02]\n"
     ]
    }
   ],
   "source": [
    "tree_tmp = orig_model2.estimators_[0][0].tree_\n",
    "\n",
    "# extract the arrays that define the tree\n",
    "children_left1 = tree_tmp.children_left\n",
    "children_right1 = tree_tmp.children_right\n",
    "children_default1 = (\n",
    "    children_right1.copy()\n",
    ")  # because sklearn does not use missing values\n",
    "features1 = tree_tmp.feature\n",
    "thresholds1 = tree_tmp.threshold\n",
    "values1 = tree_tmp.value.reshape(tree_tmp.value.shape[0], 1)\n",
    "node_sample_weight1 = tree_tmp.weighted_n_node_samples\n",
    "\n",
    "print(\n",
    "    \"     children_left1\", children_left1\n",
    ")  # note that negative children values mean this is a leaf node\n",
    "print(\"    children_right1\", children_right1)\n",
    "print(\"  children_default1\", children_default1)\n",
    "print(\"          features1\", features1)\n",
    "print(\"        thresholds1\", thresholds1.round(3))\n",
    "print(\"            values1\", values1.round(3))\n",
    "print(\"node_sample_weight1\", node_sample_weight1)"
   ],
   "metadata": {
    "collapsed": false,
    "ExecuteTime": {
     "end_time": "2023-10-14T12:42:44.945968211Z",
     "start_time": "2023-10-14T12:42:44.904872156Z"
    }
   }
  },
  {
   "cell_type": "markdown",
   "source": [
    "### Pull the info of the second tree"
   ],
   "metadata": {
    "collapsed": false
   }
  },
  {
   "cell_type": "code",
   "execution_count": 11,
   "outputs": [
    {
     "name": "stdout",
     "output_type": "stream",
     "text": [
      "     children_left2 [ 1  2  3 -1 -1  6 -1 -1  9 10 -1 -1 13 -1 -1]\n",
      "    children_right2 [ 8  5  4 -1 -1  7 -1 -1 12 11 -1 -1 14 -1 -1]\n",
      "  children_default2 [ 8  5  4 -1 -1  7 -1 -1 12 11 -1 -1 14 -1 -1]\n",
      "          features2 [ 5  8  2 -2 -2  0 -2 -2  2  8 -2 -2  8 -2 -2]\n",
      "        thresholds2 [ 3.5000e+00  7.0735e+03  1.3500e+01 -2.0000e+00 -2.0000e+00  2.0500e+01\n",
      " -2.0000e+00 -2.0000e+00  1.2500e+01  5.0955e+03 -2.0000e+00 -2.0000e+00\n",
      "  5.0955e+03 -2.0000e+00 -2.0000e+00]\n",
      "            values2 [[-1.000e-03]\n",
      " [-1.580e-01]\n",
      " [-1.720e-01]\n",
      " [-1.062e+00]\n",
      " [ 1.360e-01]\n",
      " [ 6.420e-01]\n",
      " [-2.030e-01]\n",
      " [ 2.993e+00]\n",
      " [ 1.880e-01]\n",
      " [ 8.400e-02]\n",
      " [ 2.870e-01]\n",
      " [ 3.015e+00]\n",
      " [ 4.310e-01]\n",
      " [ 1.895e+00]\n",
      " [ 3.066e+00]]\n",
      "node_sample_weight2 [3.2561e+04 1.7800e+04 1.7482e+04 1.6560e+04 9.2200e+02 3.1800e+02\n",
      " 5.0000e+00 3.1300e+02 1.4761e+04 1.0329e+04 9.8070e+03 5.2200e+02\n",
      " 4.4320e+03 3.7540e+03 6.7800e+02]\n"
     ]
    }
   ],
   "source": [
    "tree_tmp = orig_model2.estimators_[1][0].tree_\n",
    "\n",
    "# extract the arrays that define the tree\n",
    "children_left2 = tree_tmp.children_left\n",
    "children_right2 = tree_tmp.children_right\n",
    "children_default2 = (\n",
    "    children_right2.copy()\n",
    ")  # because sklearn does not use missing values\n",
    "features2 = tree_tmp.feature\n",
    "thresholds2 = tree_tmp.threshold\n",
    "values2 = tree_tmp.value.reshape(tree_tmp.value.shape[0], 1)\n",
    "node_sample_weight2 = tree_tmp.weighted_n_node_samples\n",
    "\n",
    "print(\n",
    "    \"     children_left2\", children_left2\n",
    ")  # note that negative children values mean this is a leaf node\n",
    "print(\"    children_right2\", children_right2)\n",
    "print(\"  children_default2\", children_default2)\n",
    "print(\"          features2\", features2)\n",
    "print(\"        thresholds2\", thresholds2.round(3))\n",
    "print(\"            values2\", values2.round(3))\n",
    "print(\"node_sample_weight2\", node_sample_weight2)"
   ],
   "metadata": {
    "collapsed": false,
    "ExecuteTime": {
     "end_time": "2023-10-14T12:42:44.946901808Z",
     "start_time": "2023-10-14T12:42:44.945642548Z"
    }
   }
  },
  {
   "cell_type": "markdown",
   "source": [
    "### Create a list of SHAP Trees"
   ],
   "metadata": {
    "collapsed": false
   }
  },
  {
   "cell_type": "code",
   "execution_count": 12,
   "outputs": [],
   "source": [
    "# define a custom tree model\n",
    "tree_dicts = [\n",
    "    {\n",
    "        \"children_left\": children_left1,\n",
    "        \"children_right\": children_right1,\n",
    "        \"children_default\": children_default1,\n",
    "        \"features\": features1,\n",
    "        \"thresholds\": thresholds1,\n",
    "        \"values\": values1 * orig_model2.learning_rate,\n",
    "        \"node_sample_weight\": node_sample_weight1,\n",
    "    },\n",
    "    {\n",
    "        \"children_left\": children_left2,\n",
    "        \"children_right\": children_right2,\n",
    "        \"children_default\": children_default2,\n",
    "        \"features\": features2,\n",
    "        \"thresholds\": thresholds2,\n",
    "        \"values\": values2 * orig_model2.learning_rate,\n",
    "        \"node_sample_weight\": node_sample_weight2,\n",
    "    },\n",
    "]\n",
    "model2 = {\n",
    "    \"trees\": tree_dicts,\n",
    "    \"base_offset\": scipy.special.logit(orig_model2.init_.class_prior_[1]),\n",
    "    \"tree_output\": \"log_odds\",\n",
    "    \"objective\": \"binary_crossentropy\",\n",
    "    \"input_dtype\": np.float32,  # this is what type the model uses the input feature data\n",
    "    \"internal_dtype\": np.float64,  # this is what type the model uses for values and thresholds\n",
    "}"
   ],
   "metadata": {
    "collapsed": false,
    "ExecuteTime": {
     "end_time": "2023-10-14T12:42:44.947021964Z",
     "start_time": "2023-10-14T12:42:44.945813459Z"
    }
   }
  },
  {
   "cell_type": "markdown",
   "source": [
    "### Explain the custom model"
   ],
   "metadata": {
    "collapsed": false
   }
  },
  {
   "cell_type": "code",
   "execution_count": 13,
   "outputs": [],
   "source": [
    "# build a background dataset for us to use based on people near a 0.95 cutoff\n",
    "vs = np.abs(orig_model2.predict_proba(X2)[:, 1] - 0.95)\n",
    "inds = np.argsort(vs)\n",
    "inds = inds[:200]"
   ],
   "metadata": {
    "collapsed": false,
    "ExecuteTime": {
     "end_time": "2023-10-14T12:42:44.947110831Z",
     "start_time": "2023-10-14T12:42:44.945939096Z"
    }
   }
  },
  {
   "cell_type": "code",
   "execution_count": 14,
   "outputs": [],
   "source": [
    "# build an explainer that explains the probability output of the model\n",
    "explainer2 = shap.TreeExplainer(\n",
    "    model2,\n",
    "    X2.iloc[inds, :],\n",
    "    feature_dependence=\"interventional\",\n",
    "    model_output=\"probability\",\n",
    ")"
   ],
   "metadata": {
    "collapsed": false,
    "ExecuteTime": {
     "end_time": "2023-10-14T12:42:44.947710089Z",
     "start_time": "2023-10-14T12:42:44.946097965Z"
    }
   }
  },
  {
   "cell_type": "code",
   "execution_count": 15,
   "outputs": [],
   "source": [
    "# Make sure that the ingested SHAP model (a TreeEnsemble object) makes the\n",
    "# same predictions as the original model\n",
    "assert (\n",
    "    np.abs(\n",
    "        explainer2.model.predict(X2, output=\"probability\")\n",
    "        - orig_model2.predict_proba(X2)[:, 1]\n",
    "    ).max()\n",
    "    < 1e-4\n",
    ")"
   ],
   "metadata": {
    "collapsed": false,
    "ExecuteTime": {
     "end_time": "2023-10-14T12:42:44.948300460Z",
     "start_time": "2023-10-14T12:42:44.946184488Z"
    }
   }
  },
  {
   "cell_type": "code",
   "execution_count": 16,
   "outputs": [],
   "source": [
    "# make sure the sum of the SHAP values equals the model output\n",
    "shap_sum = explainer2.expected_value + explainer2.shap_values(X2.iloc[:, :]).sum(1)\n",
    "assert np.abs(shap_sum - orig_model2.predict_proba(X2)[:, 1]).max() < 1e-4"
   ],
   "metadata": {
    "collapsed": false,
    "ExecuteTime": {
     "end_time": "2023-10-14T12:42:45.705545656Z",
     "start_time": "2023-10-14T12:42:44.946273485Z"
    }
   }
  }
 ],
 "metadata": {
  "kernelspec": {
   "display_name": "Python 3",
   "language": "python",
   "name": "python3"
  },
  "language_info": {
   "codemirror_mode": {
    "name": "ipython",
    "version": 3
   },
   "file_extension": ".py",
   "mimetype": "text/x-python",
   "name": "python",
   "nbconvert_exporter": "python",
   "pygments_lexer": "ipython3",
   "version": "3.10.12"
  }
 },
 "nbformat": 4,
 "nbformat_minor": 2
}

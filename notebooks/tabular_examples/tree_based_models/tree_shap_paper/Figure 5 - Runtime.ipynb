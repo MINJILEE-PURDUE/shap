{
 "cells": [
  {
   "cell_type": "markdown",
   "metadata": {},
   "source": [
    "# Figure 5 - Runtime"
   ]
  },
  {
   "cell_type": "code",
   "execution_count": null,
   "metadata": {},
   "outputs": [],
   "source": [
    "import matplotlib.pyplot as pl\n",
    "\n",
    "# timing data from separate runs\n",
    "brute_force = [0.000547, 0.007596, 0.01731, 0.050687, 0.317647, 0.471027, 1.491240, 3.9685, 12.283, 40.28, 96.3355, 315.67518]\n",
    "fast_method = [0.000094, 0.000108, 0.000080, 0.000121, 0.000222, 0.000382, 0.000910, 0.00124, 0.0015, 0.0034, 0.00335, 0.00577]\n",
    "\n",
    "# plotting\n",
    "fig = pl.figure(figsize=(4.5,2.5))\n",
    "pl.semilogy(fast_method, color='#1E88E5', linewidth=2)\n",
    "pl.semilogy(brute_force, color='#7C52FF', linewidth=2)\n",
    "pl.ylabel(\"seconds of runtime\")\n",
    "pl.xlabel(\"number of input features and max tree depth\")\n",
    "pl.legend([\"TreeSHAP\", \"Brute force\"], frameon=False, loc=\"upper left\")\n",
    "#plt.savefig(\"runtime.pdf\")\n",
    "pl.show()"
   ]
  }
 ],
 "metadata": {
  "anaconda-cloud": {},
  "kernelspec": {
   "display_name": "Python [default]",
   "language": "python",
   "name": "python3"
  },
  "language_info": {
   "codemirror_mode": {
    "name": "ipython",
    "version": 3
   },
   "file_extension": ".py",
   "mimetype": "text/x-python",
   "name": "python",
   "nbconvert_exporter": "python",
   "pygments_lexer": "ipython3",
   "version": "3.5.2"
  }
 },
 "nbformat": 4,
 "nbformat_minor": 1
}

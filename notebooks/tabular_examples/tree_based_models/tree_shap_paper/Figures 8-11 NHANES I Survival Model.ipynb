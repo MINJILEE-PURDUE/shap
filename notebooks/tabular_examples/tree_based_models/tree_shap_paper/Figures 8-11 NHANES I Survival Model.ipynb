{
 "cells": [
  {
   "cell_type": "markdown",
   "metadata": {},
   "source": [
    "# Figures 8-11 NHANES I Survival Model\n",
    "\n",
    "This is a cox proportional hazards model on data from <a href=\"https://wwwn.cdc.gov/nchs/nhanes/nhanes1\">NHANES I</a> with followup mortality data from the <a href=\"https://wwwn.cdc.gov/nchs/nhanes/nhefs\">NHANES I Epidemiologic Followup Study</a>. It is designed to illustrate how through the use of SHAP values we can interpret XGBoost models where traditionally only linear models are used. We see interesting and non-linear patterns in the data, which suggest the potential of this approach. Keep in mind the data has not yet been checked by us for calibrations to current lab tests and so you should not consider this as rock solid medical insights, but rather just as a proof of concept. \n",
    "\n",
    "Note that XGBoost only recently got support for a Cox objective, so you will need the most recent version of master."
   ]
  },
  {
   "cell_type": "code",
   "execution_count": null,
   "metadata": {},
   "outputs": [],
   "source": [
    "import pandas as pd\n",
    "import matplotlib.pyplot as pl\n",
    "from sklearn.model_selection import train_test_split\n",
    "import xgboost\n",
    "import numpy as np\n",
    "import shap\n",
    "import scipy as sp\n",
    "import time\n",
    "\n",
    "%matplotlib inline\n",
    "%config InlineBackend.figure_format = 'retina'"
   ]
  },
  {
   "cell_type": "markdown",
   "metadata": {},
   "source": [
    "## Create XGBoost data objects"
   ]
  },
  {
   "cell_type": "code",
   "execution_count": null,
   "metadata": {},
   "outputs": [],
   "source": [
    "X,y,X_display = shap.datasets.nhanesi()\n",
    "\n",
    "def sort_data(X, y):\n",
    "    sinds = np.argsort(np.abs(y))\n",
    "    return X.iloc[sinds,:],y[sinds]\n",
    "\n",
    "# create a complete dataset\n",
    "#X,y = sort_data(X, np.array(y))\n",
    "xgb_full = xgboost.DMatrix(X, label=y)\n",
    "\n",
    "# create a train/test split\n",
    "X_train, X_test, y_train, y_test = train_test_split(X, y, test_size=0.2, random_state=7)\n",
    "#X_train,y_train = sort_data(X_train, y_train)\n",
    "xgb_train = xgboost.DMatrix(X_train, label=y_train)\n",
    "#X_test,y_test = sort_data(X_test, y_test)\n",
    "xgb_test = xgboost.DMatrix(X_test, label=y_test)"
   ]
  },
  {
   "cell_type": "markdown",
   "metadata": {},
   "source": [
    "\n",
    "\n",
    "\n",
    "\n",
    "## Train XGBoost model"
   ]
  },
  {
   "cell_type": "code",
   "execution_count": null,
   "metadata": {},
   "outputs": [],
   "source": [
    "# use validation set to choose # of trees\n",
    "# params = {\n",
    "#     \"eta\": 0.001,\n",
    "#     \"max_depth\": 3,\n",
    "#     \"objective\": \"survival:cox\",\n",
    "#     \"subsample\": 0.5\n",
    "# }\n",
    "# model_train = xgboost.train(params, xgb_train, 10000, evals = [(xgb_test, \"test\")], verbose_eval=1000)"
   ]
  },
  {
   "cell_type": "code",
   "execution_count": null,
   "metadata": {},
   "outputs": [],
   "source": [
    "# train final model on the full data set\n",
    "params = {\n",
    "    \"eta\": 0.001,\n",
    "    \"max_depth\": 3, \n",
    "    \"objective\": \"survival:cox\",\n",
    "    \"subsample\": 0.5\n",
    "}\n",
    "model = xgboost.train(params, xgb_full, 7000, evals = [(xgb_full, \"test\")], verbose_eval=1000)"
   ]
  },
  {
   "cell_type": "markdown",
   "metadata": {},
   "source": [
    "## Explain the predictions on the entire dataset"
   ]
  },
  {
   "cell_type": "code",
   "execution_count": null,
   "metadata": {},
   "outputs": [],
   "source": [
    "shap_values = model.predict(xgb_full, pred_contribs=True)"
   ]
  },
  {
   "cell_type": "code",
   "execution_count": null,
   "metadata": {},
   "outputs": [],
   "source": [
    "shap.summary_plot(shap_values, X, show=False)\n",
    "pl.savefig(\"data/nhanes_summary.pdf\", dpi=400)\n",
    "pl.show()"
   ]
  },
  {
   "cell_type": "code",
   "execution_count": null,
   "metadata": {},
   "outputs": [],
   "source": [
    "# shap.summary_plot(shap_values, X, show=False)\n",
    "# pl.gca().set_rasterized(True)\n",
    "# pl.savefig(\"data/nhanes_summary.pdf\", dpi=400)"
   ]
  },
  {
   "cell_type": "code",
   "execution_count": null,
   "metadata": {},
   "outputs": [],
   "source": [
    "shap.dependence_plot(\"BMI\", shap_values, X, show=False, interaction_index=\"BMI\")\n",
    "pl.xlim(15,50)\n",
    "pl.gcf().set_size_inches(5.5, 5)\n",
    "#pl.savefig(\"data/nhanes_bmi.pdf\")\n",
    "pl.show()"
   ]
  },
  {
   "cell_type": "code",
   "execution_count": null,
   "metadata": {},
   "outputs": [],
   "source": [
    "shap.dependence_plot(\"Systolic BP\", shap_values, X, show=False)\n",
    "pl.xlim(80,225)\n",
    "pl.ylim(-0.4,0.8)\n",
    "pl.savefig(\"data/nhanes_sbp.pdf\", dpi=400)\n",
    "pl.show()"
   ]
  },
  {
   "cell_type": "code",
   "execution_count": null,
   "metadata": {},
   "outputs": [],
   "source": [
    "shap.dependence_plot(\"Pulse pressure\", shap_values, X, show=False)\n",
    "#pl.xlim(80,225)\n",
    "# pl.savefig(\"data/nhanes_sbp.pdf\")\n",
    "# pl.show()"
   ]
  },
  {
   "cell_type": "markdown",
   "metadata": {},
   "source": [
    "## Compute SHAP Interaction Values"
   ]
  },
  {
   "cell_type": "code",
   "execution_count": null,
   "metadata": {},
   "outputs": [],
   "source": [
    "start = time.time()\n",
    "shap_interaction_values = model.predict(xgboost.DMatrix(X.iloc[:,:]), pred_interactions=True)\n",
    "time.time() - start"
   ]
  },
  {
   "cell_type": "code",
   "execution_count": null,
   "metadata": {},
   "outputs": [],
   "source": [
    "np.exp(pred[i]),np.exp(pred[i:]).sum()"
   ]
  },
  {
   "cell_type": "code",
   "execution_count": null,
   "metadata": {},
   "outputs": [],
   "source": [
    "pred"
   ]
  },
  {
   "cell_type": "code",
   "execution_count": null,
   "metadata": {},
   "outputs": [],
   "source": [
    "?np.sort"
   ]
  },
  {
   "cell_type": "code",
   "execution_count": null,
   "metadata": {},
   "outputs": [],
   "source": [
    "pred = model.predict(xgb_full, output_margin=True)\n",
    "pred = np.flip(np.sort(pred),axis=0)\n",
    "C = 0.001\n",
    "tmp = [np.log(np.exp(pred[i]+C)/(np.exp(pred[i+1:]).sum() + np.exp(pred[i]+C))) - np.log(np.exp(pred[i])/np.exp(pred[i:]).sum()) for i in range(1000)]\n",
    "pl.plot(tmp)"
   ]
  },
  {
   "cell_type": "code",
   "execution_count": null,
   "metadata": {},
   "outputs": [],
   "source": [
    "def scaled(A, B, C):\n",
    "    return A*C/(B + A*C)"
   ]
  },
  {
   "cell_type": "code",
   "execution_count": null,
   "metadata": {},
   "outputs": [],
   "source": [
    "B = 100\n",
    "C = 0.01\n",
    "out = np.zeros(100)\n",
    "proportion = np.zeros(100)\n",
    "As = np.linspace(-20,20,100)\n",
    "for i,A in enumerate(As):\n",
    "    proportion[i] = np.exp(A)/(B+np.exp(A))\n",
    "    out[i] = A + C - np.log(B + np.exp(A)*np.exp(C)) - (A - np.log(B + np.exp(A)))"
   ]
  },
  {
   "cell_type": "code",
   "execution_count": null,
   "metadata": {},
   "outputs": [],
   "source": [
    "pl.plot(proportion,out)\n",
    "pl.title(\"Asdf\")"
   ]
  },
  {
   "cell_type": "code",
   "execution_count": null,
   "metadata": {},
   "outputs": [],
   "source": [
    "xs = np.linspace(-10,10,100)\n",
    "pl.plot(xs, np.log(1/(1+np.exp(-xs+C))) - np.log(1/(1+np.exp(-xs))))"
   ]
  },
  {
   "cell_type": "code",
   "execution_count": null,
   "metadata": {},
   "outputs": [],
   "source": [
    "np.log(1) - np.log(1+np.exp(-xs+C))"
   ]
  },
  {
   "cell_type": "code",
   "execution_count": null,
   "metadata": {},
   "outputs": [],
   "source": [
    "shap.dependence_plot(\n",
    "    (\"Systolic BP\", \"Systolic BP\"),\n",
    "    shap_interaction_values, X.iloc[:,:],\n",
    "    display_features=X_display.iloc[:,:],\n",
    "    show=False\n",
    ")\n",
    "pl.xlim(80,225)\n",
    "pl.ylim(-0.4,0.8)\n",
    "pl.ylabel(\"SHAP main effect value for\\nSystolic BP\")\n",
    "pl.gcf().set_size_inches(6, 5)\n",
    "pl.savefig(\"data/nhanes_sbp_main_effect.pdf\", dpi=400)\n",
    "pl.show()"
   ]
  },
  {
   "cell_type": "code",
   "execution_count": null,
   "metadata": {},
   "outputs": [],
   "source": [
    "def dependence_plot2(ind, shap_values, features, feature_names=None, display_features=None,\n",
    "                    interaction_index=\"auto\", color=\"#ff0052\", axis_color=\"#333333\",\n",
    "                    dot_size=16, alpha=1, title=None, show=True):\n",
    "    \"\"\"\n",
    "    Create a SHAP dependence plot, colored by an interaction feature.\n",
    "\n",
    "    Parameters\n",
    "    ----------\n",
    "    ind : int\n",
    "        Index of the feature to plot.\n",
    "\n",
    "    shap_values : numpy.array\n",
    "        Matrix of SHAP values (# samples x # features)\n",
    "\n",
    "    features : numpy.array or pandas.DataFrame\n",
    "        Matrix of feature values (# samples x # features)\n",
    "\n",
    "    feature_names : list\n",
    "        Names of the features (length # features)\n",
    "\n",
    "    display_features : numpy.array or pandas.DataFrame\n",
    "        Matrix of feature values for visual display (such as strings instead of coded values)\n",
    "\n",
    "    interaction_index : \"auto\", None, or int\n",
    "        The index of the feature used to color the plot.\n",
    "    \"\"\"\n",
    "\n",
    "    # convert from DataFrames if we got any\n",
    "    if str(type(features)) == \"<class 'pandas.core.frame.DataFrame'>\":\n",
    "        if feature_names is None:\n",
    "            feature_names = features.columns\n",
    "        features = features.values\n",
    "    if str(type(display_features)) == \"<class 'pandas.core.frame.DataFrame'>\":\n",
    "        if feature_names is None:\n",
    "            feature_names = display_features.columns\n",
    "        display_features = display_features.values\n",
    "    elif display_features is None:\n",
    "        display_features = features\n",
    "\n",
    "    if feature_names is None:\n",
    "        feature_names = [\"Feature \"+str(i) for i in range(shap_values.shape[1]-1)]\n",
    "\n",
    "    # allow vectors to be passed\n",
    "    if len(shap_values.shape) == 1:\n",
    "        shap_values = np.reshape(shap_values, len(shap_values), 1)\n",
    "    if len(features.shape) == 1:\n",
    "        features = np.reshape(features, len(features), 1)\n",
    "\n",
    "    def convert_name(ind):\n",
    "        if type(ind) == str:\n",
    "            nzinds = np.where(feature_names == ind)[0]\n",
    "            if len(nzinds) == 0:\n",
    "                print(\"Could not find feature named: \"+ind)\n",
    "                return None\n",
    "            else:\n",
    "                return nzinds[0]\n",
    "        else:\n",
    "            return ind\n",
    "\n",
    "    ind = convert_name(ind)\n",
    "\n",
    "    # plotting SHAP interaction values\n",
    "    if len(shap_values.shape) == 3 and len(ind) == 2:\n",
    "        ind1 = convert_name(ind[0])\n",
    "        ind2 = convert_name(ind[1])\n",
    "        if ind1 == ind2:\n",
    "            proj_shap_values = shap_values[:,ind2,:]\n",
    "        else:\n",
    "            proj_shap_values = shap_values[:,ind2,:] * 2 # off-diag values are split in half\n",
    "        dependence_plot2(\n",
    "            ind1, proj_shap_values, features, feature_names=feature_names,\n",
    "            interaction_index=ind2, display_features=display_features, show=False\n",
    "        )\n",
    "        if ind1 == ind2:\n",
    "            pl.ylabel(\"SHAP main effect value for\\n\"+feature_names[ind1])\n",
    "        else:\n",
    "            pl.ylabel(\"SHAP interaction value for\\n\"+feature_names[ind1]+\" and \"+feature_names[ind2])\n",
    "\n",
    "        if show:\n",
    "            pl.show()\n",
    "        return\n",
    "\n",
    "    # get both the raw and display feature values\n",
    "    xv = features[:,ind]\n",
    "    xd = display_features[:,ind]\n",
    "    s = shap_values[:,ind]\n",
    "    if type(xd[0]) == str:\n",
    "        name_map = {}\n",
    "        for i in range(len(xv)):\n",
    "            name_map[xd[i]] = xv[i]\n",
    "        xnames = list(name_map.keys())\n",
    "\n",
    "    # allow a single feature name to be passed alone\n",
    "    if type(feature_names) == str:\n",
    "        feature_names = [feature_names]\n",
    "    name = feature_names[ind]\n",
    "\n",
    "    # guess what other feature as the stongest interaction with the plotted feature\n",
    "    if interaction_index == \"auto\":\n",
    "        interaction_index = approx_interactions(ind, shap_values, features)[0]\n",
    "    interaction_index = convert_name(interaction_index)\n",
    "\n",
    "    # get both the raw and display color values\n",
    "    cv = features[:,interaction_index]\n",
    "    cd = display_features[:,interaction_index]\n",
    "    categorical_interaction = False\n",
    "    clow = np.nanpercentile(features[:,interaction_index], 5)\n",
    "    chigh = np.nanpercentile(features[:,interaction_index], 95)\n",
    "    if type(cd[0]) == str:\n",
    "        cname_map = {}\n",
    "        for i in range(len(cv)):\n",
    "            cname_map[cd[i]] = cv[i]\n",
    "        cnames = list(cname_map.keys())\n",
    "        categorical_interaction = True\n",
    "    elif clow % 1 == 0 and chigh % 1 == 0 and len(set(features[:,interaction_index])) < 50:\n",
    "        categorical_interaction = True\n",
    "\n",
    "    # discritize colors for categorical features\n",
    "    color_norm = None\n",
    "    if categorical_interaction and clow != chigh:\n",
    "        bounds = np.linspace(clow, chigh, chigh-clow+2)\n",
    "        color_norm = matplotlib.colors.BoundaryNorm(bounds, red_blue.N)\n",
    "\n",
    "    # the actual scatter plot, TODO: adapt the dot_size to the number of data points?\n",
    "    pl.scatter(xv, s, s=dot_size, linewidth=0, c=\"#1E88E5\",\n",
    "               alpha=alpha, rasterized=len(xv) > 500)\n",
    "\n",
    "    if interaction_index != ind:\n",
    "        # draw the color bar\n",
    "        norm = None\n",
    "        if type(cd[0]) == str:\n",
    "            tick_positions = [cname_map[n] for n in cnames]\n",
    "            if len(tick_positions) == 2:\n",
    "                tick_positions[0] -= 0.25\n",
    "                tick_positions[1] += 0.25\n",
    "            cb = pl.colorbar(ticks=tick_positions)\n",
    "            cb.set_ticklabels(cnames)\n",
    "\n",
    "        else:\n",
    "            cb = pl.colorbar()\n",
    "        cb.set_label(feature_names[interaction_index], size=13)\n",
    "        cb.ax.tick_params(labelsize=11)\n",
    "        if categorical_interaction:\n",
    "            cb.ax.tick_params(length=0)\n",
    "        cb.set_alpha(1)\n",
    "        cb.outline.set_visible(False)\n",
    "        bbox = cb.ax.get_window_extent().transformed(pl.gcf().dpi_scale_trans.inverted())\n",
    "        cb.ax.set_aspect((bbox.height-0.7)*20)\n",
    "\n",
    "    # make the plot more readable\n",
    "    if interaction_index != ind:\n",
    "        pl.gcf().set_size_inches(7.5, 5)\n",
    "    else:\n",
    "        pl.gcf().set_size_inches(6, 5)\n",
    "    pl.xlabel(name, color=axis_color, fontsize=13)\n",
    "    pl.ylabel(\"SHAP value for\\n\"+name, color=axis_color, fontsize=13)\n",
    "    if title != None:\n",
    "        pl.title(title, color=axis_color, fontsize=13)\n",
    "    pl.gca().xaxis.set_ticks_position('bottom')\n",
    "    pl.gca().yaxis.set_ticks_position('left')\n",
    "    pl.gca().spines['right'].set_visible(False)\n",
    "    pl.gca().spines['top'].set_visible(False)\n",
    "    pl.gca().tick_params(color=axis_color, labelcolor=axis_color, labelsize=11)\n",
    "    for spine in pl.gca().spines.values():\n",
    "        spine.set_edgecolor(axis_color)\n",
    "    if type(xd[0]) == str:\n",
    "        pl.xticks([name_map[n] for n in xnames], xnames, rotation='vertical', fontsize=11)\n",
    "    if show:\n",
    "        pl.show()\n"
   ]
  },
  {
   "cell_type": "code",
   "execution_count": null,
   "metadata": {},
   "outputs": [],
   "source": [
    "dependence_plot2(\n",
    "    (\"Systolic BP\", \"Systolic BP\"),\n",
    "    shap_interaction_values, X.iloc[:,:],\n",
    "    display_features=X_display.iloc[:,:],\n",
    "    show=False\n",
    ")\n",
    "pl.xlim(80,225)\n",
    "pl.ylim(-0.4,0.8)\n",
    "pl.ylabel(\"SHAP main effect value for\\nSystolic BP\")\n",
    "pl.gcf().set_size_inches(6, 5)\n",
    "pl.savefig(\"data/nhanes_sbp_main_effect.pdf\", dpi=400)\n",
    "pl.show()"
   ]
  },
  {
   "cell_type": "code",
   "execution_count": null,
   "metadata": {},
   "outputs": [],
   "source": [
    "shap.dependence_plot(\n",
    "    (\"Systolic BP\", \"Age\"),\n",
    "    shap_interaction_values, X.iloc[:,:],\n",
    "    display_features=X_display.iloc[:,:],\n",
    "    show=False\n",
    ")\n",
    "pl.xlim(80,225)\n",
    "pl.ylim(-0.4,0.8)\n",
    "pl.savefig(\"data/nhanes_sbp_age_interaction.pdf\", dpi=400)\n",
    "pl.show()"
   ]
  },
  {
   "cell_type": "code",
   "execution_count": null,
   "metadata": {},
   "outputs": [],
   "source": [
    "shap.dependence_plot(\n",
    "    (\"Age\", \"Sex\"),\n",
    "    shap_interaction_values, X.iloc[:1000,:],\n",
    "    display_features=X_display.iloc[:1000,:]\n",
    ")"
   ]
  },
  {
   "cell_type": "code",
   "execution_count": null,
   "metadata": {},
   "outputs": [],
   "source": [
    "shap.dependence_plot(0, shap_interaction_values[:,4,:], X.iloc[:1000,:], interaction_index=4, show=False)\n",
    "pl.ylabel(\"SHAP interaction value for\\nAge and Serum Cholesterol\")\n",
    "pl.show()"
   ]
  },
  {
   "cell_type": "code",
   "execution_count": null,
   "metadata": {},
   "outputs": [],
   "source": [
    "shap.dependence_plot(4, shap_interaction_values[:,0,:], X.iloc[:1000,:], interaction_index=0, show=False)\n",
    "pl.ylabel(\"SHAP interaction value for\\nAge and Serum Cholesterol\")\n",
    "pl.show()"
   ]
  },
  {
   "cell_type": "code",
   "execution_count": null,
   "metadata": {},
   "outputs": [],
   "source": [
    "from sklearn.decomposition import PCA\n",
    "from sklearn.manifold import TSNE\n",
    "\n",
    "shap_pca2 = PCA(n_components=2).fit_transform(shap_values[:,:-1])"
   ]
  },
  {
   "cell_type": "code",
   "execution_count": null,
   "metadata": {},
   "outputs": [],
   "source": [
    "f = pl.figure(figsize=(5,5))\n",
    "pl.scatter(shap_pca2[:,0], shap_pca2[:,1], c=np.sum(shap_values,axis=1), linewidth=0, alpha=0.5, cmap=shap.plots.red_blue)\n",
    "cb = pl.colorbar(label=\"Model output\", aspect=40, orientation=\"horizontal\")\n",
    "cb.set_alpha(1)\n",
    "cb.draw_all()\n",
    "cb.outline.set_linewidth(0)\n",
    "cb.ax.tick_params('x', length=0)\n",
    "cb.ax.xaxis.set_label_position('top')\n",
    "pl.gca().axis(\"off\")\n",
    "pl.show()"
   ]
  },
  {
   "cell_type": "code",
   "execution_count": null,
   "metadata": {},
   "outputs": [],
   "source": [
    "f = pl.figure(figsize=(5,5))\n",
    "pl.scatter(shap_pca2[:,0], shap_pca2[:,1], c=np.sum(shap_values,axis=1), linewidth=0, alpha=0.5, cmap=shap.plots.red_blue)\n",
    "cb = pl.colorbar(label=\"Model output\", aspect=40, orientation=\"horizontal\")\n",
    "cb.set_alpha(1)\n",
    "cb.draw_all()\n",
    "cb.outline.set_linewidth(0)\n",
    "cb.ax.tick_params('x', length=0)\n",
    "cb.ax.xaxis.set_label_position('top')\n",
    "pl.gca().axis(\"off\")\n",
    "pl.show()"
   ]
  },
  {
   "cell_type": "code",
   "execution_count": null,
   "metadata": {},
   "outputs": [],
   "source": [
    "f = pl.figure(figsize=(5,5))\n",
    "pl.scatter(shap_pca2[:,0], shap_pca2[:,1], c=X[\"Age\"], linewidth=0, alpha=0.5, cmap=shap.plots.red_blue)\n",
    "cb = pl.colorbar(label=\"Model output\", aspect=40, orientation=\"horizontal\")\n",
    "cb.set_alpha(1)\n",
    "cb.draw_all()\n",
    "cb.outline.set_linewidth(0)\n",
    "cb.ax.tick_params('x', length=0)\n",
    "cb.ax.xaxis.set_label_position('top')\n",
    "pl.gca().axis(\"off\")\n",
    "pl.show()"
   ]
  },
  {
   "cell_type": "code",
   "execution_count": null,
   "metadata": {},
   "outputs": [],
   "source": [
    "f = pl.figure(figsize=(5,5))\n",
    "pl.scatter(shap_pca2[:,0], shap_pca2[:,1], c=X[\"Sex\"], linewidth=0, alpha=0.5, cmap=shap.plots.red_blue)\n",
    "cb = pl.colorbar(label=\"Model output\", aspect=40, orientation=\"horizontal\")\n",
    "cb.set_alpha(1)\n",
    "cb.draw_all()\n",
    "cb.outline.set_linewidth(0)\n",
    "cb.ax.tick_params('x', length=0)\n",
    "cb.ax.xaxis.set_label_position('top')\n",
    "pl.gca().axis(\"off\")\n",
    "pl.show()"
   ]
  },
  {
   "cell_type": "code",
   "execution_count": null,
   "metadata": {},
   "outputs": [],
   "source": [
    "shap_pca2 = PCA(n_components=2).fit(shap_values[:,:-1])"
   ]
  },
  {
   "cell_type": "code",
   "execution_count": null,
   "metadata": {},
   "outputs": [],
   "source": [
    "?shap_pca2"
   ]
  },
  {
   "cell_type": "code",
   "execution_count": null,
   "metadata": {},
   "outputs": [],
   "source": [
    "shap_pca2.components_.round(2)"
   ]
  },
  {
   "cell_type": "code",
   "execution_count": null,
   "metadata": {},
   "outputs": [],
   "source": [
    "shap_embedded = TSNE(n_components=2, perplexity=50).fit_transform(shap_values[:1000,:-1])"
   ]
  },
  {
   "cell_type": "code",
   "execution_count": null,
   "metadata": {},
   "outputs": [],
   "source": [
    "f = pl.figure(figsize=(5,5))\n",
    "pl.scatter(shap_embedded[:,0], shap_embedded[:,1], c=np.sum(shap_values[:1000,:],axis=1), linewidth=0, alpha=0.5, cmap=shap.plots.red_blue)\n",
    "cb = pl.colorbar(label=\"Model output\", aspect=40, orientation=\"horizontal\")\n",
    "cb.set_alpha(1)\n",
    "cb.draw_all()\n",
    "cb.outline.set_linewidth(0)\n",
    "cb.ax.tick_params('x', length=0)\n",
    "cb.ax.xaxis.set_label_position('top')\n",
    "pl.gca().axis(\"off\")\n",
    "pl.show()"
   ]
  },
  {
   "cell_type": "code",
   "execution_count": null,
   "metadata": {},
   "outputs": [],
   "source": [
    "f = pl.figure(figsize=(5,5))\n",
    "pl.scatter(shap_embedded[:,0], shap_embedded[:,1], c=X[\"Age\"][:1000], linewidth=0, alpha=0.5, cmap=shap.plots.red_blue)\n",
    "cb = pl.colorbar(label=\"Model output\", aspect=40, orientation=\"horizontal\")\n",
    "cb.set_alpha(1)\n",
    "cb.draw_all()\n",
    "cb.outline.set_linewidth(0)\n",
    "cb.ax.tick_params('x', length=0)\n",
    "cb.ax.xaxis.set_label_position('top')\n",
    "pl.gca().axis(\"off\")\n",
    "pl.show()"
   ]
  },
  {
   "cell_type": "code",
   "execution_count": null,
   "metadata": {},
   "outputs": [],
   "source": [
    "f = pl.figure(figsize=(5,5))\n",
    "pl.scatter(shap_embedded[:,0], shap_embedded[:,1], c=X[\"Sex\"][:500], linewidth=0, alpha=0.5, cmap=shap.plots.red_blue)\n",
    "cb = pl.colorbar(label=\"Model output\", aspect=40, orientation=\"horizontal\")\n",
    "cb.set_alpha(1)\n",
    "cb.draw_all()\n",
    "cb.outline.set_linewidth(0)\n",
    "cb.ax.tick_params('x', length=0)\n",
    "cb.ax.xaxis.set_label_position('top')\n",
    "pl.gca().axis(\"off\")\n",
    "pl.show()"
   ]
  },
  {
   "cell_type": "code",
   "execution_count": null,
   "metadata": {},
   "outputs": [],
   "source": [
    "f = pl.figure(figsize=(5,5))\n",
    "pl.scatter(shap_embedded[:,0], shap_embedded[:,1], c=X[\"Systolic BP\"][:500], linewidth=0, alpha=0.5, cmap=shap.plots.red_blue)\n",
    "cb = pl.colorbar(label=\"Model output\", aspect=40, orientation=\"horizontal\")\n",
    "cb.set_alpha(1)\n",
    "cb.draw_all()\n",
    "cb.outline.set_linewidth(0)\n",
    "cb.ax.tick_params('x', length=0)\n",
    "cb.ax.xaxis.set_label_position('top')\n",
    "pl.gca().axis(\"off\")\n",
    "pl.show()"
   ]
  },
  {
   "cell_type": "code",
   "execution_count": null,
   "metadata": {},
   "outputs": [],
   "source": [
    "f = pl.figure(figsize=(5,5))\n",
    "pl.scatter(shap_pca2[:,0], shap_pca2[:,1], c=X[\"Systolic BP\"], linewidth=0, alpha=0.5, cmap=shap.plots.red_blue)\n",
    "cb = pl.colorbar(label=\"Model output\", aspect=40, orientation=\"horizontal\")\n",
    "cb.set_alpha(1)\n",
    "cb.draw_all()\n",
    "cb.outline.set_linewidth(0)\n",
    "cb.ax.tick_params('x', length=0)\n",
    "cb.ax.xaxis.set_label_position('top')\n",
    "pl.gca().axis(\"off\")\n",
    "pl.show()"
   ]
  },
  {
   "cell_type": "code",
   "execution_count": null,
   "metadata": {},
   "outputs": [],
   "source": []
  }
 ],
 "metadata": {
  "anaconda-cloud": {},
  "kernelspec": {
   "display_name": "Python [default]",
   "language": "python",
   "name": "python3"
  },
  "language_info": {
   "codemirror_mode": {
    "name": "ipython",
    "version": 3
   },
   "file_extension": ".py",
   "mimetype": "text/x-python",
   "name": "python",
   "nbconvert_exporter": "python",
   "pygments_lexer": "ipython3",
   "version": "3.5.2"
  }
 },
 "nbformat": 4,
 "nbformat_minor": 1
}

{
 "cells": [
  {
   "cell_type": "markdown",
   "id": "83737bf2",
   "metadata": {},
   "source": [
    "# Explaining a model that uses standardized features\n",
    "\n",
    "Standardizing features is a common preprocessing step for many ML pipelines. When explaining a model that uses standardized features it is often desirable to get explanations using the original input features (not their standardized versions). This notebook shows how to do that using the property that any univariate transformation applied to a model's inputs does not effect the Shapley values for the model (note that multi-variate transformations like PCA decompositions do change the Shapley values so this trick does not apply there)."
   ]
  },
  {
   "cell_type": "markdown",
   "id": "8aa3f573",
   "metadata": {},
   "source": [
    "## Build a linear model that uses standardized features"
   ]
  },
  {
   "cell_type": "code",
   "execution_count": null,
   "id": "30a9847c",
   "metadata": {},
   "outputs": [],
   "source": [
    "import sklearn\n",
    "import shap\n",
    "\n",
    "# get standardized data\n",
    "X, y = shap.datasets.california()\n",
    "scaler = sklearn.preprocessing.StandardScaler()\n",
    "scaler.fit(X)\n",
    "X_std = scaler.transform(X)\n",
    "\n",
    "# train the linear model\n",
    "model = sklearn.linear_model.LinearRegression().fit(X_std, y)\n",
    "\n",
    "# explain the model's predictions using SHAP\n",
    "explainer = shap.explainers.Linear(model, X_std)\n",
    "shap_values = explainer(X_std)\n",
    "\n",
    "# visualize the model's dependence on the first feature\n",
    "shap.plots.scatter(shap_values[:, 0])"
   ]
  },
  {
   "cell_type": "markdown",
   "id": "5bf0c27c",
   "metadata": {},
   "source": [
    "## Convert the explanation to the original feature space"
   ]
  },
  {
   "cell_type": "code",
   "execution_count": null,
   "id": "4be65152",
   "metadata": {},
   "outputs": [],
   "source": [
    "# we add back the feature names stripped by the StandardScaler\n",
    "for i,c in enumerate(X.columns):\n",
    "    shap_values.feature_names[i] = c\n",
    "\n",
    "# we convert back to the original data\n",
    "# (note we can do this because X_std is a set of univariate transformations of X)\n",
    "shap_values.data = X.values\n",
    "\n",
    "# visualize the model's dependence on the first feature again, now in the new original feature space\n",
    "shap.plots.scatter(shap_values[:, 0])"
   ]
  },
  {
   "cell_type": "markdown",
   "id": "017131fd",
   "metadata": {},
   "source": [
    "<hr>\n",
    "Have an idea for more helpful examples? Pull requests that add to this documentation notebook are encouraged!"
   ]
  }
 ],
 "metadata": {
  "language_info": {
   "codemirror_mode": {
    "name": "ipython",
    "version": 3
   },
   "file_extension": ".py",
   "mimetype": "text/x-python",
   "name": "python",
   "nbconvert_exporter": "python",
   "pygments_lexer": "ipython3",
   "version": "3.7.4"
  }
 },
 "nbformat": 4,
 "nbformat_minor": 5
}

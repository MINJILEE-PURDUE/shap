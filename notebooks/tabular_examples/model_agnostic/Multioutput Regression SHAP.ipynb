{
 "cells": [
  {
   "cell_type": "markdown",
   "metadata": {
    "id": "IWC0ysE1Dxjw"
   },
   "source": [
    "# SHAP Values for Multi-Output Regression Models\n",
    "\n",
    "Author: [coryroyce](https://github.com/coryroyce)\n",
    "\n",
    "Date updated: 3/4/2021"
   ]
  },
  {
   "cell_type": "markdown",
   "metadata": {
    "id": "dsqdv2hjDxcQ"
   },
   "source": [
    "## Create Multi-Output Regression Model"
   ]
  },
  {
   "cell_type": "markdown",
   "metadata": {
    "id": "-V1-MOrsEuVV"
   },
   "source": [
    "### Create Data"
   ]
  },
  {
   "cell_type": "markdown",
   "metadata": {
    "id": "TIcX4gtHFFPE"
   },
   "source": [
    "Import required packages"
   ]
  },
  {
   "cell_type": "code",
   "execution_count": null,
   "metadata": {
    "id": "tw-jILFwEyTj"
   },
   "outputs": [],
   "source": [
    "import pandas as pd\n",
    "from sklearn.datasets import make_regression\n",
    "from keras.models import Sequential\n",
    "from keras.layers import Dense"
   ]
  },
  {
   "cell_type": "markdown",
   "metadata": {
    "id": "Bfzmg13nFLQS"
   },
   "source": [
    "Create a custom function that generates the multi-output regression data.\n",
    "Note: Creating 5 outputs/targets/labels for this example, but the method easily extends to any number or outputs."
   ]
  },
  {
   "cell_type": "code",
   "execution_count": null,
   "metadata": {
    "id": "v8B9xsfaFSGW"
   },
   "outputs": [],
   "source": [
    "def get_dataset():\n",
    "  # Create sample data with sklearn make_regression function\n",
    "  X, y = make_regression(n_samples=1000, n_features=10, n_informative=7, n_targets=5, random_state=0)\n",
    "\n",
    "  # Convert the data into Pandas Dataframes for easier maniplution and keeping stored column names\n",
    "  # Create feature column names\n",
    "  feature_cols = ['feature_01', 'feature_02', 'feature_03', 'feature_04', \n",
    "                  'feature_05', 'feature_06', 'feature_07', 'feature_08',\n",
    "                  'feature_09', 'feature_10']\n",
    "  \n",
    "  df_features = pd.DataFrame(data = X, columns = feature_cols)               \n",
    "\n",
    "  # Create lable column names and dataframe\n",
    "  label_cols = ['labels_01', 'labels_02', 'labels_03', 'labels_04', 'labels_05']\n",
    "\n",
    "  df_labels = pd.DataFrame(data = y, columns = label_cols)\n",
    "\n",
    "  return df_features, df_labels"
   ]
  },
  {
   "cell_type": "markdown",
   "metadata": {
    "id": "Yh04cjdtKVA6"
   },
   "source": [
    "### Create Model"
   ]
  },
  {
   "cell_type": "markdown",
   "metadata": {
    "id": "xYDs0e-9K_NZ"
   },
   "source": [
    "Create a Tensorflow/Keras Sequential model."
   ]
  },
  {
   "cell_type": "code",
   "execution_count": null,
   "metadata": {
    "id": "DGXVRyF2KUu7"
   },
   "outputs": [],
   "source": [
    "def get_model(n_inputs, n_outputs):\n",
    "\tmodel = Sequential()\n",
    "\tmodel.add(Dense(32, input_dim=n_inputs, kernel_initializer='he_uniform', activation='relu'))\n",
    "\tmodel.add(Dense(n_outputs, kernel_initializer='he_uniform'))\n",
    "\tmodel.compile(loss='mae', optimizer='adam')\n",
    "\treturn model"
   ]
  },
  {
   "cell_type": "markdown",
   "metadata": {
    "id": "75BCkGTOL2UI"
   },
   "source": [
    "### Train Model"
   ]
  },
  {
   "cell_type": "markdown",
   "metadata": {
    "id": "BvNIVRGXL8RY"
   },
   "source": [
    "Create the dataset with the function defined above."
   ]
  },
  {
   "cell_type": "code",
   "execution_count": null,
   "metadata": {
    "id": "RsXjcH5EGJlf"
   },
   "outputs": [],
   "source": [
    "# Create the datasets\n",
    "X, y = get_dataset()\n",
    "\n",
    "# Get the number of inputs and outputs from the dataset\n",
    "n_inputs, n_outputs = X.shape[1], y.shape[1]"
   ]
  },
  {
   "cell_type": "markdown",
   "metadata": {
    "id": "ojzK4sH0Mgwl"
   },
   "source": [
    "Load the model with function defined above."
   ]
  },
  {
   "cell_type": "code",
   "execution_count": null,
   "metadata": {
    "id": "_2jlWNjIGWeb"
   },
   "outputs": [],
   "source": [
    "model = get_model(n_inputs, n_outputs)"
   ]
  },
  {
   "cell_type": "markdown",
   "metadata": {
    "id": "65ZksxGPMln4"
   },
   "source": [
    "Train the model"
   ]
  },
  {
   "cell_type": "code",
   "execution_count": null,
   "metadata": {
    "colab": {
     "base_uri": "https://localhost:8080/"
    },
    "id": "X_BKjh_XMnq8",
    "outputId": "1b51ff94-a6d3-4d3c-db84-67a8a215012c"
   },
   "outputs": [],
   "source": [
    "model.fit(X, y, verbose=0, epochs=100)"
   ]
  },
  {
   "cell_type": "markdown",
   "metadata": {
    "id": "ahR4Mv-INAhW"
   },
   "source": [
    "Get model evaluation metrics to confirm training went well."
   ]
  },
  {
   "cell_type": "code",
   "execution_count": null,
   "metadata": {
    "colab": {
     "base_uri": "https://localhost:8080/"
    },
    "id": "EpsC81kWMnlA",
    "outputId": "bfb2672c-86ab-42fa-8cd3-e96f222e0c6b"
   },
   "outputs": [],
   "source": [
    "model.evaluate(x = X, y = y)"
   ]
  },
  {
   "cell_type": "markdown",
   "metadata": {
    "id": "N4_3msWUNvN7"
   },
   "source": [
    "### Model Prediction"
   ]
  },
  {
   "cell_type": "markdown",
   "metadata": {
    "id": "uK3Ynxv6OyCE"
   },
   "source": [
    "Manual data can be entered but in this case, just us an arbitrary index form the feature/X data."
   ]
  },
  {
   "cell_type": "code",
   "execution_count": null,
   "metadata": {
    "colab": {
     "base_uri": "https://localhost:8080/"
    },
    "id": "Zi0qG4qSN4Me",
    "outputId": "fd4e11c2-2f2b-4483-e45d-92ef4451358d"
   },
   "outputs": [],
   "source": [
    "model.predict(X.iloc[0:1,:])"
   ]
  },
  {
   "cell_type": "markdown",
   "metadata": {
    "id": "G1vnASuZPuDF"
   },
   "source": [
    "## Get SHAP Values and Plots"
   ]
  },
  {
   "cell_type": "markdown",
   "metadata": {
    "id": "XF1Kq2kVQMPH"
   },
   "source": [
    "Apply Shapley vaules to the model."
   ]
  },
  {
   "cell_type": "code",
   "execution_count": null,
   "metadata": {
    "colab": {
     "base_uri": "https://localhost:8080/",
     "height": 495
    },
    "id": "N6KGr8WdQMPc",
    "outputId": "a0dbd73d-a5a5-4718-d40c-c631c8bed104"
   },
   "outputs": [],
   "source": [
    "!pip install shap\n",
    "import shap\n",
    "\n",
    "# print the JS visualization code to the notebook\n",
    "shap.initjs()"
   ]
  },
  {
   "cell_type": "markdown",
   "metadata": {
    "id": "yMTpA0MQW69j"
   },
   "source": [
    "Here we take the Keras model trained above and explain why it makes different predictions on individual samples."
   ]
  },
  {
   "cell_type": "markdown",
   "metadata": {
    "id": "J6RDmgfWW69n"
   },
   "source": [
    "Set the explainer using the Kernel Explainer (Model agnostic explainer method form SHAP)."
   ]
  },
  {
   "cell_type": "code",
   "execution_count": null,
   "metadata": {
    "id": "qlu0QC9fW69n"
   },
   "outputs": [],
   "source": [
    "explainer = shap.KernelExplainer(model = model.predict, data = X.head(50), link = \"identity\")"
   ]
  },
  {
   "cell_type": "markdown",
   "metadata": {
    "id": "Tq08AY7gW69o"
   },
   "source": [
    "Get the Shapley value for a single example."
   ]
  },
  {
   "cell_type": "code",
   "execution_count": null,
   "metadata": {
    "colab": {
     "base_uri": "https://localhost:8080/",
     "height": 66,
     "referenced_widgets": [
      "be96ed0927aa4ecfa9beb659901de005",
      "739a5abf57fa4dffbd8b35524e1dc4d5",
      "1ed6b7beb5364c84b10f1765e1f9ca3c",
      "1bc7bab14cc84195934efb2bed09ef91",
      "0ff420f73bb946aca783d9422e32ff51",
      "8c446400caa244a2a4cc92a26e77b8d5",
      "cc643293effb4184bf910bc3359c5d43",
      "49fe6984069a4219a89e3d4817a67bb6"
     ]
    },
    "id": "qxn-M5kRW69o",
    "outputId": "b9decef1-6c9b-4f90-f93b-29de2a3ea212"
   },
   "outputs": [],
   "source": [
    "# Set the index of the specific example to explain\n",
    "X_idx = 0\n",
    "\n",
    "shap_value_single = explainer.shap_values(X = X.iloc[X_idx:X_idx+1,:], nsamples = 100)"
   ]
  },
  {
   "cell_type": "markdown",
   "metadata": {
    "id": "3cmO2kegW69p"
   },
   "source": [
    "Display the details of the single example"
   ]
  },
  {
   "cell_type": "code",
   "execution_count": null,
   "metadata": {
    "colab": {
     "base_uri": "https://localhost:8080/",
     "height": 98
    },
    "id": "Q9vGc6faW69p",
    "outputId": "c5bd70ef-b7a4-4c14-883f-f83d32e35d40"
   },
   "outputs": [],
   "source": [
    "X.iloc[X_idx:X_idx+1,:]"
   ]
  },
  {
   "cell_type": "markdown",
   "metadata": {
    "id": "FYy3KvQtW69p"
   },
   "source": [
    "Choose the label/output/target to run individual explanations on:\n",
    "\n",
    "Note: The dropdown menu can easily be replaced by manually setting the index on the label to explain. "
   ]
  },
  {
   "cell_type": "code",
   "execution_count": null,
   "metadata": {
    "id": "3vapc-xSW69p"
   },
   "outputs": [],
   "source": [
    "import ipywidgets as widgets"
   ]
  },
  {
   "cell_type": "code",
   "execution_count": null,
   "metadata": {
    "colab": {
     "base_uri": "https://localhost:8080/",
     "height": 49,
     "referenced_widgets": [
      "2d7fabca6cb144e6b481a8aa2a9180a0",
      "882d87373519439ca4ba14d805c07d61",
      "3884892d84a2488ba1a4074ef3ecddea"
     ]
    },
    "id": "7bgF1mDYW69q",
    "outputId": "a8d9b7ff-f45b-418a-9344-9618654eaf40"
   },
   "outputs": [],
   "source": [
    "# Create the list of all labels for the drop down list\n",
    "list_of_labels = y.columns.to_list()\n",
    "\n",
    "# Create a list of tuples so that the index of the label is what is returned\n",
    "tuple_of_labels = list(zip(list_of_labels, range(len(list_of_labels))))\n",
    "\n",
    "# Create a widget for the labels and then display the widget\n",
    "current_label = widgets.Dropdown(options=tuple_of_labels,\n",
    "                              value=0,\n",
    "                              description='Select Label:'\n",
    "                              )\n",
    "\n",
    "# Display the dropdown list (Note: access index value with 'current_label.value')\n",
    "current_label\n"
   ]
  },
  {
   "cell_type": "markdown",
   "metadata": {
    "id": "qhXLd5nUW69q"
   },
   "source": [
    "Plot the force plot for a single example and a single label/output/target"
   ]
  },
  {
   "cell_type": "code",
   "execution_count": null,
   "metadata": {
    "colab": {
     "base_uri": "https://localhost:8080/",
     "height": 211
    },
    "id": "vx8WVn_lW69q",
    "outputId": "3bcabafa-0f29-474c-b68f-03fe71400357"
   },
   "outputs": [],
   "source": [
    "# print the JS visualization code to the notebook\n",
    "shap.initjs()\n",
    "\n",
    "print(f'Current label Shown: {list_of_labels[current_label.value]}')\n",
    "\n",
    "shap.force_plot(base_value = explainer.expected_value[current_label.value],\n",
    "                shap_values = shap_value_single[current_label.value], \n",
    "                features = X.iloc[X_idx:X_idx+1,:]\n",
    "                )"
   ]
  },
  {
   "cell_type": "markdown",
   "metadata": {
    "id": "1GSnPlRM4Wqy"
   },
   "source": [
    "Create the summary plot for a specific output/label/target."
   ]
  },
  {
   "cell_type": "code",
   "execution_count": null,
   "metadata": {
    "colab": {
     "base_uri": "https://localhost:8080/",
     "height": 66,
     "referenced_widgets": [
      "de75cddebb2e4333a359c88be1ed0c46",
      "a84fea8af23e4adbb04f8352e2a7de63",
      "73a6f9233fa642289d4a2940b98b5a65",
      "9fd16a4edfca494f82462605d09b376c",
      "df33c21deb394db4b4c3fcccbb12509f",
      "2df255b85ca24283ba33ca52974bd704",
      "9035bc746bf841b384dc8e596e474d66",
      "330175c1ace147cfaaae1a8a6c4dd216"
     ]
    },
    "id": "PgU6F5yrm8RK",
    "outputId": "6d25972d-9eef-44be-ca7c-56bbf1eab95d"
   },
   "outputs": [],
   "source": [
    "# Note: We are limiting to the first 50 training examples since it takes time to calculate the full number of sampels\n",
    "shap_values = explainer.shap_values(X = X.iloc[0:50,:], nsamples = 100)"
   ]
  },
  {
   "cell_type": "code",
   "execution_count": null,
   "metadata": {
    "colab": {
     "base_uri": "https://localhost:8080/",
     "height": 429
    },
    "id": "LCbEhcksmmtp",
    "outputId": "fdd4a3ec-9fb0-4f23-818d-a3ab8a1a166a"
   },
   "outputs": [],
   "source": [
    "# print the JS visualization code to the notebook\n",
    "shap.initjs()\n",
    "\n",
    "print(f'Current Label Shown: {list_of_labels[current_label.value]}\\n')\n",
    "\n",
    "shap.summary_plot(shap_values = shap_values[current_label.value],\n",
    "                  features = X.iloc[0:50,:]\n",
    "                  ) \n"
   ]
  },
  {
   "cell_type": "markdown",
   "metadata": {
    "id": "6Jb4tiD7avxv"
   },
   "source": [
    "Summary Plot Notes:\n",
    "\n",
    "Based on the above summary plot we can see that Features 01, 03, and 07 are the features that have no influence on the model and could be dropped (Note that in the data setup we chose 10 features and only 7 of them had a meaningful relationship with the labels/targets). This is the big advantage of SHAP since without this we would not have much insight into which features are actually influencing our model.\n",
    "\n",
    "The above setup with the dropdown menu allows us to choose the individual labels to explore in more detail. "
   ]
  },
  {
   "cell_type": "markdown",
   "metadata": {
    "id": "jNvC7PHa9OuM"
   },
   "source": [
    "Force Plot for the first 50 individual examples."
   ]
  },
  {
   "cell_type": "code",
   "execution_count": null,
   "metadata": {
    "colab": {
     "base_uri": "https://localhost:8080/",
     "height": 445
    },
    "id": "6-VacRds9OuQ",
    "outputId": "2c8e9ecb-8ac4-41d7-a1ae-4a8f7af53e61"
   },
   "outputs": [],
   "source": [
    "print(f'Current Label Shown: {list_of_labels[current_label.value]}\\n')\n",
    "\n",
    "# print the JS visualization code to the notebook\n",
    "shap.initjs()\n",
    "\n",
    "shap.force_plot(base_value = explainer.expected_value[current_label.value],\n",
    "                shap_values = shap_values[current_label.value], \n",
    "                features = X.iloc[0:50,:]\n",
    "                )"
   ]
  },
  {
   "cell_type": "markdown",
   "metadata": {
    "id": "TkkKvl0KOC_K"
   },
   "source": [
    "## Reference"
   ]
  },
  {
   "cell_type": "markdown",
   "metadata": {
    "id": "9twCMRTsOFcD"
   },
   "source": [
    "Multi-output regression model format/build was largely based on [Deep Learning Models for Multi-Output Regression](https://machinelearningmastery.com/deep-learning-models-for-multi-output-regression/)"
   ]
  }
 ],
 "metadata": {
  "colab": {
   "collapsed_sections": [],
   "name": "SHAP_Values_for_Multi_Output_Regression_Models.ipynb",
   "provenance": [],
   "toc_visible": true
  },
  "kernelspec": {
   "display_name": "Python 3",
   "name": "python3"
  }
 },
 "nbformat": 4,
 "nbformat_minor": 0
}
